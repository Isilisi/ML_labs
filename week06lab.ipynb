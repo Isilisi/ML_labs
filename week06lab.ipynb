{
 "cells": [
  {
   "cell_type": "code",
   "execution_count": 1,
   "metadata": {},
   "outputs": [],
   "source": [
    "import pandas as pd\n",
    "import numpy as np\n",
    "\n",
    "names = ['price', 'maint', 'doors', 'persons', 'hoot', 'safety', 'class']\n",
    "df = pd.read_table(\"./data/car.data\", sep=\",\", header=None, names=names)"
   ]
  },
  {
   "cell_type": "code",
   "execution_count": 19,
   "metadata": {},
   "outputs": [
    {
     "data": {
      "text/plain": [
       "0       vhigh\n",
       "1       vhigh\n",
       "2       vhigh\n",
       "3       vhigh\n",
       "4       vhigh\n",
       "5       vhigh\n",
       "6       vhigh\n",
       "7       vhigh\n",
       "8       vhigh\n",
       "9       vhigh\n",
       "10      vhigh\n",
       "11      vhigh\n",
       "12      vhigh\n",
       "13      vhigh\n",
       "14      vhigh\n",
       "15      vhigh\n",
       "16      vhigh\n",
       "17      vhigh\n",
       "18      vhigh\n",
       "19      vhigh\n",
       "20      vhigh\n",
       "21      vhigh\n",
       "22      vhigh\n",
       "23      vhigh\n",
       "24      vhigh\n",
       "25      vhigh\n",
       "26      vhigh\n",
       "27      vhigh\n",
       "28      vhigh\n",
       "29      vhigh\n",
       "        ...  \n",
       "1698      low\n",
       "1699      low\n",
       "1700      low\n",
       "1701      low\n",
       "1702      low\n",
       "1703      low\n",
       "1704      low\n",
       "1705      low\n",
       "1706      low\n",
       "1707      low\n",
       "1708      low\n",
       "1709      low\n",
       "1710      low\n",
       "1711      low\n",
       "1712      low\n",
       "1713      low\n",
       "1714      low\n",
       "1715      low\n",
       "1716      low\n",
       "1717      low\n",
       "1718      low\n",
       "1719      low\n",
       "1720      low\n",
       "1721      low\n",
       "1722      low\n",
       "1723      low\n",
       "1724      low\n",
       "1725      low\n",
       "1726      low\n",
       "1727      low\n",
       "Name: price, Length: 1728, dtype: category\n",
       "Categories (4, object): [high, low, med, vhigh]"
      ]
     },
     "execution_count": 19,
     "metadata": {},
     "output_type": "execute_result"
    }
   ],
   "source": [
    "X = df.drop('class', axis=1)\n",
    "y = df['class']\n",
    "X.iloc[:,0].astype('category')"
   ]
  },
  {
   "cell_type": "code",
   "execution_count": 3,
   "metadata": {},
   "outputs": [],
   "source": [
    "for name in names[:-1]:\n",
    "    X[name] = X[name].astype('category').cat.codes\n",
    "y = y.astype('category').cat.codes"
   ]
  },
  {
   "cell_type": "code",
   "execution_count": 4,
   "metadata": {},
   "outputs": [
    {
     "name": "stdout",
     "output_type": "stream",
     "text": [
      "<class 'pandas.core.frame.DataFrame'>\n",
      "RangeIndex: 1728 entries, 0 to 1727\n",
      "Data columns (total 6 columns):\n",
      "price      1728 non-null int8\n",
      "maint      1728 non-null int8\n",
      "doors      1728 non-null int8\n",
      "persons    1728 non-null int8\n",
      "hoot       1728 non-null int8\n",
      "safety     1728 non-null int8\n",
      "dtypes: int8(6)\n",
      "memory usage: 10.2 KB\n"
     ]
    }
   ],
   "source": [
    "X.info()"
   ]
  },
  {
   "cell_type": "code",
   "execution_count": 5,
   "metadata": {},
   "outputs": [],
   "source": [
    "from sklearn.model_selection import train_test_split\n",
    "\n",
    "X_train, X_test, y_train, y_test = train_test_split(X, y)"
   ]
  },
  {
   "cell_type": "code",
   "execution_count": 6,
   "metadata": {},
   "outputs": [
    {
     "data": {
      "text/plain": [
       "'Gaussian'"
      ]
     },
     "metadata": {},
     "output_type": "display_data"
    },
    {
     "data": {
      "text/plain": [
       "0.6504629629629629"
      ]
     },
     "metadata": {},
     "output_type": "display_data"
    },
    {
     "data": {
      "text/plain": [
       "'Multinomial'"
      ]
     },
     "metadata": {},
     "output_type": "display_data"
    },
    {
     "data": {
      "text/plain": [
       "0.7199074074074074"
      ]
     },
     "metadata": {},
     "output_type": "display_data"
    },
    {
     "data": {
      "text/plain": [
       "'Bernoulli'"
      ]
     },
     "metadata": {},
     "output_type": "display_data"
    },
    {
     "data": {
      "text/plain": [
       "0.7546296296296297"
      ]
     },
     "metadata": {},
     "output_type": "display_data"
    }
   ],
   "source": [
    "from sklearn.naive_bayes import GaussianNB, MultinomialNB, BernoulliNB\n",
    "\n",
    "models = [\n",
    "    (GaussianNB(), 'Gaussian'),\n",
    "    (MultinomialNB(), 'Multinomial'),\n",
    "    (BernoulliNB(), 'Bernoulli')\n",
    "]\n",
    "\n",
    "for model, title in models:\n",
    "    model.fit(X_train, y_train)\n",
    "    display(title)\n",
    "    accuracy = np.mean(model.predict(X_test) == y_test)\n",
    "    display(accuracy)"
   ]
  },
  {
   "cell_type": "markdown",
   "metadata": {},
   "source": [
    "Gaussian: data may not be very well fit normall distribution\n",
    "\n",
    "Multinomial: features are not counts\n",
    "\n",
    "Bernoulli: features are not binary\n",
    "\n",
    "Expect poor performance on each of the models"
   ]
  },
  {
   "cell_type": "code",
   "execution_count": 7,
   "metadata": {},
   "outputs": [
    {
     "data": {
      "text/plain": [
       "'Multinomial'"
      ]
     },
     "metadata": {},
     "output_type": "display_data"
    },
    {
     "data": {
      "text/plain": [
       "0.7152777777777778"
      ]
     },
     "metadata": {},
     "output_type": "display_data"
    },
    {
     "data": {
      "text/plain": [
       "'Bernoulli'"
      ]
     },
     "metadata": {},
     "output_type": "display_data"
    },
    {
     "data": {
      "text/plain": [
       "0.7152777777777778"
      ]
     },
     "metadata": {},
     "output_type": "display_data"
    }
   ],
   "source": [
    "# With no smoothing:\n",
    "models = [\n",
    "    (MultinomialNB(alpha=1.0e+10), 'Multinomial'),\n",
    "    (BernoulliNB(alpha=1.0e+10), 'Bernoulli')\n",
    "]\n",
    "\n",
    "for model, title in models:\n",
    "    model.fit(X_train, y_train)\n",
    "    display(title)\n",
    "    accuracy = np.mean(model.predict(X_test) == y_test)\n",
    "    display(accuracy)"
   ]
  },
  {
   "cell_type": "markdown",
   "metadata": {},
   "source": [
    "Exactly the same performance with very small alpha.\n",
    "zero-R performance with very high alpha"
   ]
  },
  {
   "cell_type": "markdown",
   "metadata": {},
   "source": [
    "## Question 4"
   ]
  },
  {
   "cell_type": "code",
   "execution_count": 8,
   "metadata": {},
   "outputs": [],
   "source": [
    "from sklearn.preprocessing import OneHotEncoder\n",
    "?OneHotEncoder"
   ]
  },
  {
   "cell_type": "code",
   "execution_count": 9,
   "metadata": {},
   "outputs": [
    {
     "data": {
      "text/plain": [
       "array([[0., 0., 0., ..., 0., 1., 0.],\n",
       "       [0., 0., 0., ..., 0., 0., 1.],\n",
       "       [0., 0., 0., ..., 1., 0., 0.],\n",
       "       ...,\n",
       "       [0., 1., 0., ..., 0., 1., 0.],\n",
       "       [0., 1., 0., ..., 0., 0., 1.],\n",
       "       [0., 1., 0., ..., 1., 0., 0.]])"
      ]
     },
     "metadata": {},
     "output_type": "display_data"
    },
    {
     "data": {
      "text/plain": [
       "(1728, 21)"
      ]
     },
     "metadata": {},
     "output_type": "display_data"
    }
   ],
   "source": [
    "ohe = OneHotEncoder()\n",
    "ohe.fit(X)\n",
    "X_trans = ohe.transform(X).toarray()\n",
    "display(X_trans)\n",
    "display(X_trans.shape)"
   ]
  },
  {
   "cell_type": "code",
   "execution_count": 10,
   "metadata": {},
   "outputs": [],
   "source": [
    "X_train, X_test, y_train, y_test = train_test_split(X_trans, y)"
   ]
  },
  {
   "cell_type": "code",
   "execution_count": 11,
   "metadata": {},
   "outputs": [
    {
     "data": {
      "text/plain": [
       "'Multinomial'"
      ]
     },
     "metadata": {},
     "output_type": "display_data"
    },
    {
     "data": {
      "text/plain": [
       "0.7106481481481481"
      ]
     },
     "metadata": {},
     "output_type": "display_data"
    },
    {
     "data": {
      "text/plain": [
       "'Bernoulli'"
      ]
     },
     "metadata": {},
     "output_type": "display_data"
    },
    {
     "data": {
      "text/plain": [
       "0.7106481481481481"
      ]
     },
     "metadata": {},
     "output_type": "display_data"
    }
   ],
   "source": [
    "for model, title in models:\n",
    "    model.fit(X_train, y_train)\n",
    "    display(title)\n",
    "    accuracy = np.mean(model.predict(X_test) == y_test)\n",
    "    display(accuracy)"
   ]
  },
  {
   "cell_type": "markdown",
   "metadata": {},
   "source": [
    "## Question 6"
   ]
  },
  {
   "cell_type": "code",
   "execution_count": 12,
   "metadata": {},
   "outputs": [],
   "source": [
    "from sklearn.feature_selection import SelectKBest, chi2\n",
    "\n",
    "x2 = SelectKBest(chi2, k=4)\n",
    "x2.fit(X_train, y_train)\n",
    "X_train = x2.transform(X_train)\n",
    "X_test = x2.transform(X_test)"
   ]
  },
  {
   "cell_type": "code",
   "execution_count": 13,
   "metadata": {},
   "outputs": [
    {
     "data": {
      "text/plain": [
       "(1296, 4)"
      ]
     },
     "metadata": {},
     "output_type": "display_data"
    },
    {
     "data": {
      "text/plain": [
       "(432, 4)"
      ]
     },
     "metadata": {},
     "output_type": "display_data"
    }
   ],
   "source": [
    "display(X_train.shape)\n",
    "display(X_test.shape)"
   ]
  },
  {
   "cell_type": "code",
   "execution_count": null,
   "metadata": {},
   "outputs": [],
   "source": []
  },
  {
   "cell_type": "code",
   "execution_count": null,
   "metadata": {},
   "outputs": [],
   "source": []
  }
 ],
 "metadata": {
  "kernelspec": {
   "display_name": "Python 3",
   "language": "python",
   "name": "python3"
  },
  "language_info": {
   "codemirror_mode": {
    "name": "ipython",
    "version": 3
   },
   "file_extension": ".py",
   "mimetype": "text/x-python",
   "name": "python",
   "nbconvert_exporter": "python",
   "pygments_lexer": "ipython3",
   "version": "3.6.4"
  }
 },
 "nbformat": 4,
 "nbformat_minor": 2
}
