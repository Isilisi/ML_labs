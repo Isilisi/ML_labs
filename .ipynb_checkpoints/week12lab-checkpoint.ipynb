{
 "cells": [
  {
   "cell_type": "markdown",
   "metadata": {},
   "source": [
    "https://bit.ly/2wvWgNy"
   ]
  },
  {
   "cell_type": "code",
   "execution_count": 158,
   "metadata": {},
   "outputs": [
    {
     "name": "stdout",
     "output_type": "stream",
     "text": [
      "[nltk_data] Downloading package treebank to /Users/ilia/nltk_data...\n",
      "[nltk_data]   Package treebank is already up-to-date!\n"
     ]
    },
    {
     "data": {
      "text/plain": [
       "True"
      ]
     },
     "execution_count": 158,
     "metadata": {},
     "output_type": "execute_result"
    }
   ],
   "source": [
    "import numpy as np\n",
    "import nltk\n",
    "from itertools import product\n",
    "import matplotlib.pyplot as plt\n",
    "from nltk.corpus import treebank\n",
    "nltk.download('treebank')"
   ]
  },
  {
   "cell_type": "code",
   "execution_count": 2,
   "metadata": {},
   "outputs": [],
   "source": [
    "# download the raw corpus\n",
    "corpus = treebank.tagged_sents()"
   ]
  },
  {
   "cell_type": "code",
   "execution_count": 3,
   "metadata": {},
   "outputs": [
    {
     "data": {
      "text/plain": [
       "[('Rudolph', 'NNP'),\n",
       " ('Agnew', 'NNP'),\n",
       " (',', ','),\n",
       " ('55', 'CD'),\n",
       " ('years', 'NNS'),\n",
       " ('old', 'JJ'),\n",
       " ('and', 'CC'),\n",
       " ('former', 'JJ'),\n",
       " ('chairman', 'NN'),\n",
       " ('of', 'IN'),\n",
       " ('Consolidated', 'NNP'),\n",
       " ('Gold', 'NNP'),\n",
       " ('Fields', 'NNP'),\n",
       " ('PLC', 'NNP'),\n",
       " (',', ','),\n",
       " ('was', 'VBD'),\n",
       " ('named', 'VBN'),\n",
       " ('*-1', '-NONE-'),\n",
       " ('a', 'DT'),\n",
       " ('nonexecutive', 'JJ'),\n",
       " ('director', 'NN'),\n",
       " ('of', 'IN'),\n",
       " ('this', 'DT'),\n",
       " ('British', 'JJ'),\n",
       " ('industrial', 'JJ'),\n",
       " ('conglomerate', 'NN'),\n",
       " ('.', '.')]"
      ]
     },
     "execution_count": 3,
     "metadata": {},
     "output_type": "execute_result"
    }
   ],
   "source": [
    "corpus[2]"
   ]
  },
  {
   "cell_type": "code",
   "execution_count": 5,
   "metadata": {},
   "outputs": [],
   "source": [
    "# encode all the POS-tags and words\n",
    "tag_nos = {}\n",
    "word_nos = {}\n",
    "encoded_corpus = []\n",
    "for sentence in corpus:\n",
    "    encoded_sentence = []\n",
    "    for word, tag in sentence:\n",
    "        encoded_word = word_nos.setdefault(word.lower(), len(word_nos))\n",
    "        encoded_tag = tag_nos.setdefault(tag, len(tag_nos))\n",
    "        encoded_sentence.append( (encoded_word, encoded_tag) )\n",
    "    encoded_corpus.append(encoded_sentence)"
   ]
  },
  {
   "cell_type": "code",
   "execution_count": 7,
   "metadata": {},
   "outputs": [
    {
     "data": {
      "text/plain": [
       "[(26, 0),\n",
       " (27, 0),\n",
       " (2, 1),\n",
       " (28, 2),\n",
       " (4, 3),\n",
       " (5, 4),\n",
       " (29, 13),\n",
       " (30, 4),\n",
       " (19, 8),\n",
       " (20, 9),\n",
       " (31, 0),\n",
       " (32, 0),\n",
       " (33, 0),\n",
       " (34, 0),\n",
       " (2, 1),\n",
       " (35, 14),\n",
       " (36, 15),\n",
       " (37, 16),\n",
       " (11, 7),\n",
       " (12, 4),\n",
       " (13, 8),\n",
       " (20, 9),\n",
       " (38, 7),\n",
       " (39, 4),\n",
       " (40, 4),\n",
       " (41, 8),\n",
       " (16, 10)]"
      ]
     },
     "execution_count": 7,
     "metadata": {},
     "output_type": "execute_result"
    }
   ],
   "source": [
    "encoded_corpus[2]"
   ]
  },
  {
   "cell_type": "code",
   "execution_count": 9,
   "metadata": {},
   "outputs": [],
   "source": [
    "# train/test split\n",
    "train_sentences = encoded_corpus[:-10]\n",
    "test_sentences = encoded_corpus[-10:]"
   ]
  },
  {
   "cell_type": "code",
   "execution_count": 219,
   "metadata": {},
   "outputs": [],
   "source": [
    "# construct the reverse mapping so we can retrieve POS-tags and words using their ids\n",
    "inv_tag_nos = { v:k for k,v in tag_nos.items() }\n",
    "inv_word_nos = { v:k for k,v in word_nos.items() }"
   ]
  },
  {
   "cell_type": "code",
   "execution_count": 17,
   "metadata": {},
   "outputs": [],
   "source": [
    "# MLE for the initial state probaility vector\n",
    "eps = 0.001\n",
    "Pi = eps * np.ones(len(tag_nos))\n",
    "for sentence in train_sentences:\n",
    "    _, tag = sentence[0]\n",
    "    Pi[tag] += 1\n",
    "Pi /= np.sum(Pi)"
   ]
  },
  {
   "cell_type": "code",
   "execution_count": 28,
   "metadata": {},
   "outputs": [
    {
     "data": {
      "image/png": "[encoded data removed]",
      "text/plain": [
       "<matplotlib.figure.Figure at 0x1a1d6d30b8>"
      ]
     },
     "metadata": {},
     "output_type": "display_data"
    }
   ],
   "source": [
    "plt.hist(Pi, bins=40)\n",
    "plt.show()"
   ]
  },
  {
   "cell_type": "code",
   "execution_count": 29,
   "metadata": {},
   "outputs": [],
   "source": [
    "# MLE for transition probabilities matrix\n",
    "A = eps * np.ones((len(tag_nos), len(tag_nos)))\n",
    "for sentence in train_sentences:\n",
    "    prev_tag = None\n",
    "    for word, tag in sentence:\n",
    "        if prev_tag is None:\n",
    "            pass\n",
    "        else:\n",
    "            A[prev_tag, tag] += 1\n",
    "        prev_tag = tag\n",
    "\n",
    "for i in range(len(tag_nos)):\n",
    "    A[i,:] /= np.sum(A[i,:])"
   ]
  },
  {
   "cell_type": "code",
   "execution_count": 49,
   "metadata": {},
   "outputs": [
    {
     "data": {
      "text/plain": [
       "array([1., 1., 1., 1., 1., 1., 1., 1., 1., 1., 1., 1., 1., 1., 1., 1., 1.,\n",
       "       1., 1., 1., 1., 1., 1., 1., 1., 1., 1., 1., 1., 1., 1., 1., 1., 1.,\n",
       "       1., 1., 1., 1., 1., 1., 1., 1., 1., 1., 1., 1.])"
      ]
     },
     "execution_count": 49,
     "metadata": {},
     "output_type": "execute_result"
    }
   ],
   "source": [
    "sum(np.transpose(A))"
   ]
  },
  {
   "cell_type": "code",
   "execution_count": 50,
   "metadata": {},
   "outputs": [],
   "source": [
    "# MLE for observation probabilities matrix\n",
    "B = eps * np.ones((len(tag_nos), len(word_nos)))\n",
    "for sentence in train_sentences:\n",
    "    for word, tag in sentence:\n",
    "        B[tag, word] += 1\n",
    "\n",
    "for i in range(len(tag_nos)):\n",
    "    B[i,:] /= np.sum(B[i,:])"
   ]
  },
  {
   "cell_type": "code",
   "execution_count": 55,
   "metadata": {},
   "outputs": [],
   "source": [
    "# HMM\n",
    "HMM = (Pi, A, B)"
   ]
  },
  {
   "cell_type": "code",
   "execution_count": 56,
   "metadata": {},
   "outputs": [
    {
     "data": {
      "text/plain": [
       "(46,)"
      ]
     },
     "metadata": {},
     "output_type": "display_data"
    },
    {
     "data": {
      "text/plain": [
       "(46, 46)"
      ]
     },
     "metadata": {},
     "output_type": "display_data"
    },
    {
     "data": {
      "text/plain": [
       "(46, 11387)"
      ]
     },
     "metadata": {},
     "output_type": "display_data"
    }
   ],
   "source": [
    "for hmm in HMM:\n",
    "    display(hmm.shape)"
   ]
  },
  {
   "cell_type": "markdown",
   "metadata": {},
   "source": [
    "## Probability of a sentence using Forward and Backward Algorithms"
   ]
  },
  {
   "cell_type": "code",
   "execution_count": 156,
   "metadata": {},
   "outputs": [],
   "source": [
    "def forward_proba(HMM, sentence):\n",
    "    \n",
    "    # unpack the HMM\n",
    "    Pi, A, B = HMM\n",
    "    \n",
    "    # number of hidden states\n",
    "    N = len(A)\n",
    "    \n",
    "    # length of the sentence\n",
    "    T = len(sentence)\n",
    "    \n",
    "    # initialisation\n",
    "    alpha = np.full(shape = (N, T), fill_value = 0.0)\n",
    "    alpha[:, 0] = Pi * B[:, sentence[0]]\n",
    "    \n",
    "    # induction\n",
    "    for i in range(1, T):\n",
    "        alpha[:, i] = np.matmul(alpha[:, i-1], A) * B[:, sentence[i]]\n",
    "    \n",
    "    # termination\n",
    "    prob = np.sum(alpha[:, T-1])\n",
    "    \n",
    "    return prob\n",
    "\n",
    "def backward_proba(HMM, sentence):\n",
    "    \n",
    "    # unpack the HMM\n",
    "    Pi, A, B = HMM\n",
    "    \n",
    "    # number of hidden states\n",
    "    N = len(A)\n",
    "    \n",
    "    # length of the sentence\n",
    "    T = len(sentence)\n",
    "    \n",
    "    # initialisation\n",
    "    beta = np.full(shape = (N, T), fill_value = 0.0)\n",
    "    beta[:, T-1] = 1.0\n",
    "    \n",
    "    # induction\n",
    "    for i in range(T-2, -1, -1):\n",
    "        beta[:, i] = np.matmul(A, B[:, sentence[i+1]] * beta[:, i+1])\n",
    "    \n",
    "    # termination\n",
    "    prob = np.sum(Pi * beta[:, 0] * B[:, sentence[0]])\n",
    "    \n",
    "    return prob"
   ]
  },
  {
   "cell_type": "code",
   "execution_count": 171,
   "metadata": {},
   "outputs": [
    {
     "data": {
      "text/plain": [
       "0.041000999999999996"
      ]
     },
     "metadata": {},
     "output_type": "display_data"
    },
    {
     "data": {
      "text/plain": [
       "0.041000999999999996"
      ]
     },
     "metadata": {},
     "output_type": "display_data"
    }
   ],
   "source": [
    "# example for tutorials\n",
    "Pi0 = np.array([0.3, 0.4, 0.3])\n",
    "\n",
    "A0 = np.array([[0.4, 0.5, 0.1],\n",
    "              [0.1, 0.4, 0.5],\n",
    "              [0.4, 0.5, 0.1]])\n",
    "\n",
    "B0 = np.array([[0.8, 0.1, 0.1],\n",
    "              [0.3, 0.4, 0.3],\n",
    "              [0.1, 0.3, 0.6]])\n",
    "\n",
    "HMM0 = (Pi0, A0, B0)\n",
    "\n",
    "target_sentence = np.array([0, 1, 2])\n",
    "\n",
    "display(forward_proba(HMM0, target_sentence))\n",
    "display(backward_proba(HMM0, target_sentence))\n",
    "# yay! Both algorithms give the same answer as in the tutorials\n",
    "# now find all probabilities of all possible sentences:\n",
    "probs = []\n",
    "for sentence in product([0, 1, 2], [0, 1, 2], [0, 1, 2]):\n",
    "    assert(abs(forward_proba(HMM0, sentence) - backward_proba(HMM0, sentence)) < 0.0001)\n",
    "    probs.append(forward_proba(HMM0, sentence))\n",
    "# by enumerating all possible sentences can find the most likely one, it is [0, 0, 0]\n",
    "# which corresponds to \"brown brown brown\", how come this nonsense sentence is the most likely one?\n",
    "# that's because the numbers were made up"
   ]
  },
  {
   "cell_type": "markdown",
   "metadata": {},
   "source": [
    "## Sequence Decoding using Viterbi's Algorithm"
   ]
  },
  {
   "cell_type": "code",
   "execution_count": 212,
   "metadata": {},
   "outputs": [],
   "source": [
    "def viterbi_decode(HMM, sentence):\n",
    "    \"\"\"\n",
    "    Implementation of Viterbi's algorithm.\n",
    "    \n",
    "    Input is an HMM, a three-tuple consisting of:\n",
    "    * Pi (the initial probability vector),\n",
    "    * A (the transition probability matrix), and\n",
    "    * B (the observation probability matrix).\n",
    "    \n",
    "    Output should be:\n",
    "    * list of the most likely sequence of hidden states, and\n",
    "    * the maximum delta at the end of the sequence\n",
    "    \"\"\"\n",
    "    \n",
    "    # unpack the HMM\n",
    "    Pi, A, B = HMM\n",
    "    \n",
    "    # number of hidden states\n",
    "    N = len(A)\n",
    "    \n",
    "    # length of the sentence\n",
    "    T = len(sentence)\n",
    "    \n",
    "    # initialize the delta and psi matrices\n",
    "    delta = np.full(shape=(N,T), fill_value=float(\"-inf\"))\n",
    "    psi = np.full(shape=(N,T), fill_value=0)\n",
    "\n",
    "    # (1) Initialize delta and psi for t = 0\n",
    "    delta[:, 0] = Pi * B[:, sentence[0]]\n",
    "    psi[:, 0] = 0\n",
    "    \n",
    "    # (2) Inductive Step\n",
    "    for i in range(1, T):\n",
    "        for j in range(N):\n",
    "            probs = delta[:, i-1] * A[:, j]\n",
    "            psi[j, i] = np.argmax(probs)\n",
    "            delta[j, i] = np.max(probs) * B[j, sentence[i]]\n",
    "            \n",
    "    # (3) Termination/Backtracking\n",
    "    q = np.argmax(delta[:, T-1])\n",
    "    best_prob = delta[q, T-1]\n",
    "    \n",
    "    output = []\n",
    "    for i in range(T-1, -1, -1):\n",
    "        output.append(q)\n",
    "        q = psi[q, i]\n",
    "\n",
    "    return list(reversed(output)), best_prob"
   ]
  },
  {
   "cell_type": "code",
   "execution_count": 213,
   "metadata": {},
   "outputs": [
    {
     "data": {
      "text/plain": [
       "([0, 1, 2], 0.0144)"
      ]
     },
     "execution_count": 213,
     "metadata": {},
     "output_type": "execute_result"
    }
   ],
   "source": [
    "viterbi_decode(HMM0, [0, 1, 2]) # same answer as in tutorials!"
   ]
  },
  {
   "cell_type": "code",
   "execution_count": 214,
   "metadata": {},
   "outputs": [],
   "source": [
    "example_test_sentence = [word for word, _ in test_sentences[0]]\n",
    "prediction, score = viterbi_decode(HMM, example_test_sentence)"
   ]
  },
  {
   "cell_type": "code",
   "execution_count": null,
   "metadata": {},
   "outputs": [],
   "source": []
  },
  {
   "cell_type": "code",
   "execution_count": 220,
   "metadata": {},
   "outputs": [
    {
     "name": "stdout",
     "output_type": "stream",
     "text": [
      "               TOKEN\t TRUE\t PRED\n",
      "                   a\t   DT\t   DT\n",
      "               white\t  NNP\t  NNP\n",
      "               house\t  NNP\t  NNP\n",
      "           spokesman\t   NN\t   NN\n",
      "                said\t  VBD\t  VBD\n",
      "                last\t   JJ\t   JJ\n",
      "                week\t   NN\t   NN\n",
      "                that\t   IN\t   IN\n",
      "                 the\t   DT\t   DT\n",
      "           president\t   NN\t   NN\n",
      "                  is\t  VBZ\t  VBZ\n",
      "         considering\t  VBG\t  VBG\n",
      "                 *-1\t-NONE-\t-NONE-\n",
      "           declaring\t  VBG\t  VBG\n",
      "                that\t   IN\t   IN\n",
      "                 the\t   DT\t   DT\n",
      "        constitution\t  NNP\t  NNP\n",
      "          implicitly\t   RB\t  NNP\n",
      "               gives\t  VBZ\t  VBZ\n",
      "                 him\t  PRP\t  PRP\n",
      "                 the\t   DT\t   DT\n",
      "           authority\t   NN\t   NN\n",
      "                 for\t   IN\t   IN\n",
      "                   a\t   DT\t   DT\n",
      "           line-item\t   JJ\t   JJ\n",
      "                veto\t   NN\t   NN\n",
      "                 *-2\t-NONE-\t-NONE-\n",
      "                  to\t   TO\t   TO\n",
      "             provoke\t   VB\t   VB\n",
      "                   a\t   DT\t   DT\n",
      "                test\t   NN\t   NN\n",
      "                case\t   NN\t   NN\n",
      "                   .\t    .\t    .\n"
     ]
    }
   ],
   "source": [
    "print('%20s\\t%5s\\t%5s' % ('TOKEN', 'TRUE', 'PRED'))\n",
    "for (wi, ti), pi in zip(test_sentences[0], prediction):\n",
    "    print('%20s\\t%5s\\t%5s' % (inv_word_nos[wi], inv_tag_nos[ti], inv_tag_nos[pi]))"
   ]
  },
  {
   "cell_type": "code",
   "execution_count": null,
   "metadata": {},
   "outputs": [],
   "source": []
  },
  {
   "cell_type": "code",
   "execution_count": null,
   "metadata": {},
   "outputs": [],
   "source": []
  }
 ],
 "metadata": {
  "kernelspec": {
   "display_name": "Python 3",
   "language": "python",
   "name": "python3"
  },
  "language_info": {
   "codemirror_mode": {
    "name": "ipython",
    "version": 3
   },
   "file_extension": ".py",
   "mimetype": "text/x-python",
   "name": "python",
   "nbconvert_exporter": "python",
   "pygments_lexer": "ipython3",
   "version": "3.6.8"
  }
 },
 "nbformat": 4,
 "nbformat_minor": 2
}
