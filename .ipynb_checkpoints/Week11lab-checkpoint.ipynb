{
 "cells": [
  {
   "cell_type": "code",
   "execution_count": 105,
   "metadata": {},
   "outputs": [],
   "source": [
    "from IPython.core.interactiveshell import InteractiveShell\n",
    "InteractiveShell.ast_node_interactivity = \"all\"\n",
    "\n",
    "from sklearn.neural_network import MLPClassifier\n",
    "from sklearn.model_selection import cross_val_score, train_test_split, GridSearchCV\n",
    "from sklearn import datasets\n",
    "from sklearn.preprocessing import StandardScaler\n",
    "from sklearn.pipeline import Pipeline\n",
    "import numpy as np\n",
    "import pandas as pd\n",
    "import matplotlib.pyplot as plt\n",
    "\n",
    "#https://bit.ly/30Hcukv\n",
    "#https://colab.research.google.com/drive/14bFH-w74CSnx3zkbi00KouMFe7sS0WP_#scrollTo=zRFkCcQCC3C7"
   ]
  },
  {
   "cell_type": "markdown",
   "metadata": {},
   "source": [
    "# Question 1"
   ]
  },
  {
   "cell_type": "code",
   "execution_count": 53,
   "metadata": {},
   "outputs": [],
   "source": [
    "iris = datasets.load_iris()\n",
    "X = iris.data\n",
    "y = iris.target"
   ]
  },
  {
   "cell_type": "code",
   "execution_count": 54,
   "metadata": {},
   "outputs": [
    {
     "data": {
      "text/plain": [
       "0.9722222222222221"
      ]
     },
     "execution_count": 54,
     "metadata": {},
     "output_type": "execute_result"
    }
   ],
   "source": [
    "model = MLPClassifier(max_iter=1000)\n",
    "ss = cross_val_score(model, X, y, cv=20)\n",
    "np.mean(ss)"
   ]
  },
  {
   "cell_type": "code",
   "execution_count": 55,
   "metadata": {},
   "outputs": [
    {
     "data": {
      "text/plain": [
       "MLPClassifier(activation='relu', alpha=0.0001, batch_size='auto', beta_1=0.9,\n",
       "              beta_2=0.999, early_stopping=False, epsilon=1e-08,\n",
       "              hidden_layer_sizes=(100,), learning_rate='constant',\n",
       "              learning_rate_init=0.001, max_iter=1000, momentum=0.9,\n",
       "              n_iter_no_change=10, nesterovs_momentum=True, power_t=0.5,\n",
       "              random_state=None, shuffle=True, solver='adam', tol=0.0001,\n",
       "              validation_fraction=0.1, verbose=False, warm_start=False)"
      ]
     },
     "execution_count": 55,
     "metadata": {},
     "output_type": "execute_result"
    },
    {
     "data": {
      "text/plain": [
       "3"
      ]
     },
     "execution_count": 55,
     "metadata": {},
     "output_type": "execute_result"
    },
    {
     "data": {
      "text/plain": [
       "[array([[ 1.15856741e-01,  3.28211375e-02, -2.24579079e-03,\n",
       "         -8.46863270e-02,  6.55298396e-02, -2.70097399e-02,\n",
       "         -3.51709510e-02,  3.14204780e-01,  1.93004097e-01,\n",
       "          2.98788764e-01,  2.10152237e-01,  1.32518208e-01,\n",
       "          3.14586445e-01, -2.62871565e-04, -2.21647795e-02,\n",
       "          2.37895692e-07, -1.80345496e-03,  9.55483130e-02,\n",
       "          2.21253171e-01, -2.58629126e-02,  1.19908479e-08,\n",
       "         -2.89482921e-04,  4.36226111e-02,  2.83511200e-01,\n",
       "          1.67893889e-01,  1.72046686e-01, -1.42377068e-02,\n",
       "          1.40557282e-02,  1.74635483e-01, -2.88238912e-02,\n",
       "          1.63554794e-01,  2.06804888e-01,  2.28640877e-01,\n",
       "          9.33518224e-02,  2.40589509e-02,  1.14201206e-01,\n",
       "          1.90858073e-01,  9.32368524e-02,  1.65854493e-01,\n",
       "          2.27974141e-01, -1.06057417e-01, -1.93963470e-03,\n",
       "         -4.18857443e-02,  1.78002831e-01,  2.30581596e-05,\n",
       "          1.60157931e-01, -9.06350721e-02,  2.13323535e-01,\n",
       "          1.32415538e-01,  6.26513156e-02, -1.04310005e-02,\n",
       "         -4.19894597e-03,  6.86778737e-02, -2.12420109e-06,\n",
       "         -9.76003591e-07,  2.51557265e-01, -1.30430434e-02,\n",
       "          3.01951330e-02, -2.86440238e-03, -3.61952774e-12,\n",
       "         -1.19344640e-01,  3.51157358e-01, -1.61867765e-01,\n",
       "          2.74392344e-02,  8.94490873e-02, -1.95037682e-07,\n",
       "         -1.52415075e-02,  1.53278973e-01, -4.39138072e-04,\n",
       "         -3.35052298e-02,  1.91186408e-01,  2.95461698e-01,\n",
       "          7.10292686e-02,  8.45998132e-02, -5.83317154e-04,\n",
       "          2.82289917e-01, -2.58851673e-04,  6.21451375e-02,\n",
       "         -4.29036857e-02,  5.25294174e-02, -1.92515785e-02,\n",
       "          1.83817019e-01, -4.03644948e-04,  3.53287484e-02,\n",
       "         -5.06841927e-02, -1.34198729e-02, -4.36476146e-04,\n",
       "         -7.84643221e-03, -7.45588274e-02, -4.70692142e-02,\n",
       "          3.75810186e-01,  1.85023371e-01, -1.64185067e-02,\n",
       "         -2.24903233e-01,  1.14697058e-01,  2.01947964e-01,\n",
       "          6.09765615e-05,  3.38745614e-01,  4.80031704e-04,\n",
       "         -6.52495230e-03],\n",
       "        [ 8.87445099e-02,  9.34037429e-02, -7.41611789e-07,\n",
       "          1.16285099e-01,  3.23324842e-01, -1.45838648e-02,\n",
       "         -2.69385669e-02,  4.73629637e-01,  4.42954334e-01,\n",
       "          1.27699536e-01,  4.69849492e-02,  3.54982529e-01,\n",
       "          4.28306617e-01,  1.18478369e-03, -1.20149972e-02,\n",
       "         -4.68370261e-03,  6.69979051e-05,  2.67475468e-01,\n",
       "          2.88167906e-03, -1.48501595e-02, -4.41011192e-05,\n",
       "         -2.04047921e-06,  1.99063469e-01, -7.07877843e-02,\n",
       "         -2.71973453e-02,  1.56706339e-01,  1.97233943e-01,\n",
       "          2.09876961e-01, -2.80240837e-01,  7.22661513e-02,\n",
       "         -1.90946407e-01,  2.12286160e-01, -2.43112639e-01,\n",
       "         -1.45030267e-01, -9.50315081e-02,  2.37752460e-01,\n",
       "          5.78851826e-02, -1.08920471e-02,  2.74873499e-01,\n",
       "          1.78023717e-01, -6.96987149e-02, -3.46236436e-04,\n",
       "         -1.49549792e-02, -7.76933568e-02, -1.57438260e-04,\n",
       "          3.37059994e-02,  1.45648803e-01,  7.64228163e-02,\n",
       "          4.14913274e-01, -1.11182938e-02, -3.37847239e-02,\n",
       "          4.40752853e-01,  2.05359972e-01,  1.46685251e-10,\n",
       "         -5.66049586e-12,  3.05050942e-01,  1.59466584e-01,\n",
       "          1.29275885e-02, -5.26597564e-04,  4.79760160e-11,\n",
       "          3.88565252e-02, -3.04598509e-02, -4.49909440e-01,\n",
       "         -1.83684588e-01,  1.34218199e-01,  4.98625760e-04,\n",
       "          3.08550566e-01,  5.71040616e-02,  1.03728804e-06,\n",
       "         -7.91952178e-02, -2.14506520e-02,  4.07837376e-01,\n",
       "         -1.35644095e-01, -1.94777750e-01, -1.89319581e-03,\n",
       "          9.84659574e-02, -1.89514368e-09, -1.01614845e-01,\n",
       "         -4.71275997e-03, -1.37693504e-01, -7.57090995e-03,\n",
       "         -2.11478703e-01, -2.90024225e-03, -9.88716439e-02,\n",
       "         -2.17765817e-02, -4.14453098e-02,  1.40125214e-10,\n",
       "         -1.66877563e-05, -1.73088127e-01, -4.38993162e-02,\n",
       "          2.40206203e-01,  8.82672785e-02, -2.40228858e-02,\n",
       "          2.09223313e-02, -2.08728780e-01,  1.90589312e-01,\n",
       "         -1.06519342e-04,  4.38459270e-01, -7.85468112e-02,\n",
       "         -1.17924227e-07],\n",
       "        [ 1.52024491e-01,  4.36788054e-02, -1.39273502e-08,\n",
       "          1.40967837e-01, -6.21837503e-02, -1.34406177e-02,\n",
       "         -1.28152277e-02, -5.02584304e-01, -5.67052086e-01,\n",
       "         -2.91536290e-01, -2.23738184e-01, -4.34351953e-01,\n",
       "         -5.13306007e-01, -1.78247537e-04, -1.98511924e-02,\n",
       "         -1.26996487e-09, -6.68431891e-08, -1.99706453e-01,\n",
       "         -2.79760377e-02, -1.79721561e-02, -4.37925643e-05,\n",
       "          5.16688291e-06, -2.29912349e-02, -2.43777560e-01,\n",
       "          3.05205553e-01,  1.12706295e-01,  6.44619971e-02,\n",
       "          1.38883520e-01,  4.14973907e-01, -1.29018747e-01,\n",
       "          1.93269289e-01,  2.77809040e-01,  5.95031428e-02,\n",
       "         -8.11213361e-02,  1.56461235e-01, -5.57323854e-02,\n",
       "          1.11639860e-01,  1.27675820e-01, -3.02230122e-01,\n",
       "         -1.01320143e-01,  3.38712247e-01, -1.30843959e-10,\n",
       "         -6.21349822e-03,  3.30269388e-01, -3.89296633e-03,\n",
       "         -1.41481670e-01,  1.77487299e-01, -3.29609785e-01,\n",
       "         -4.53660412e-01, -1.02623720e-01, -4.68917380e-02,\n",
       "         -3.34624929e-01,  1.54428073e-01, -1.73598487e-03,\n",
       "         -7.65284834e-03, -3.17574427e-01,  6.29914572e-02,\n",
       "          1.81215641e-01, -2.53772704e-03,  8.74213077e-13,\n",
       "          1.67605539e-01, -4.22312561e-01,  4.97036488e-01,\n",
       "          3.10072004e-02, -3.72494727e-02, -6.46109176e-03,\n",
       "         -1.84209133e-01,  2.05462050e-01,  7.89102103e-15,\n",
       "          3.54311748e-02, -6.27941781e-02, -5.08881870e-01,\n",
       "          1.71635332e-01,  1.68067377e-01, -5.59123719e-03,\n",
       "         -2.88184321e-01, -2.57525391e-07,  8.63883115e-02,\n",
       "         -1.17846176e-02,  2.46848110e-01, -1.70220166e-02,\n",
       "          1.79622571e-01, -8.14277289e-04,  2.60563608e-01,\n",
       "         -2.97856889e-02, -1.77306433e-02,  3.71816130e-13,\n",
       "          2.22949700e-07,  1.56107220e-01,  3.42777579e-01,\n",
       "         -4.27063761e-01,  2.05064698e-02, -5.10703488e-02,\n",
       "          2.55257302e-01,  2.75470789e-01, -2.71758435e-01,\n",
       "         -7.01235683e-03, -5.43545697e-01,  2.96138750e-01,\n",
       "          1.04851686e-05],\n",
       "        [ 2.15679905e-01,  3.50859820e-01, -4.80459937e-03,\n",
       "          2.37030534e-01,  1.02569756e-01,  3.55936699e-03,\n",
       "         -1.77111610e-02, -5.44386597e-01, -5.35064721e-01,\n",
       "         -4.35507502e-01, -1.12507533e-01, -3.55590750e-01,\n",
       "         -5.30369917e-01, -3.70486427e-03, -1.09428585e-04,\n",
       "         -5.69915929e-05, -4.29581347e-09, -2.60249312e-02,\n",
       "          1.08385639e-01, -1.45033855e-02, -1.05883123e-04,\n",
       "         -1.08740154e-09,  3.26587629e-01, -4.08202501e-01,\n",
       "          2.75245806e-01,  5.80402153e-02, -2.96896911e-01,\n",
       "         -3.31891299e-01,  9.00701547e-02,  1.36210047e-01,\n",
       "         -1.20253704e-01,  3.38319546e-01,  6.12089810e-02,\n",
       "          2.66755802e-02,  3.96308527e-01,  7.87492219e-02,\n",
       "         -1.46892865e-01, -6.92578929e-02, -1.58957285e-01,\n",
       "         -7.42670022e-02,  3.92267623e-01,  5.72863181e-04,\n",
       "         -1.43037256e-02,  3.68232276e-01, -1.08519744e-05,\n",
       "          1.12294775e-01, -1.19299812e-01,  2.15316142e-02,\n",
       "         -1.35699873e-01,  2.44949072e-01,  1.13721092e-01,\n",
       "         -2.44224669e-01,  8.33048474e-02,  3.39706204e-03,\n",
       "          2.79894785e-03, -6.17494653e-01,  1.16395285e-01,\n",
       "         -1.62429389e-01, -1.00059918e-03, -1.75184524e-03,\n",
       "          2.06891954e-01, -1.16919928e-01,  6.45777223e-01,\n",
       "          9.06460492e-02,  7.47272500e-02,  4.16540146e-03,\n",
       "         -2.67606683e-02, -2.86669497e-01, -7.75649546e-03,\n",
       "         -4.32688996e-02,  1.42915196e-01, -4.55779163e-01,\n",
       "         -1.42000762e-01,  2.63476741e-01, -2.47767644e-14,\n",
       "         -4.54073384e-01, -2.66508335e-03,  1.48110981e-01,\n",
       "         -7.22020944e-04,  4.45602900e-01, -4.85117278e-05,\n",
       "         -1.97259898e-01, -5.11652913e-03,  3.24978124e-01,\n",
       "          1.43558448e-02, -7.33667050e-04,  6.57869837e-05,\n",
       "          1.86515248e-04, -1.32719135e-01,  2.80769437e-01,\n",
       "         -4.72522322e-01, -1.08438627e-01,  2.35654800e-03,\n",
       "          3.44125890e-01, -6.24806782e-02, -1.10990345e-01,\n",
       "          7.19769011e-03, -6.01709249e-01,  5.58202297e-03,\n",
       "         -6.68483952e-04]]),\n",
       " array([[-3.43003037e-01,  1.97991780e-01, -5.00040497e-02],\n",
       "        [-1.50535990e-01, -1.04352885e-01,  3.57062727e-02],\n",
       "        [ 2.02730038e-05,  7.20437832e-03, -9.20199076e-04],\n",
       "        [ 4.65190983e-02, -3.05024857e-01,  8.67643666e-02],\n",
       "        [ 2.15064415e-01, -1.26177856e-01, -1.45749456e-01],\n",
       "        [ 1.92061892e-03,  7.22588923e-03, -1.39315857e-03],\n",
       "        [-8.06950218e-03, -5.87037811e-03,  1.94511516e-04],\n",
       "        [ 5.49705342e-01,  5.48853686e-01, -5.55592235e-01],\n",
       "        [ 4.95457203e-01, -6.60613330e-01, -4.11837770e-01],\n",
       "        [ 3.87499407e-01,  5.22116959e-01, -3.39544838e-01],\n",
       "        [ 1.23483667e-01,  2.47916836e-02, -2.82771575e-01],\n",
       "        [ 5.94638474e-01, -4.98139245e-01, -1.70967337e-01],\n",
       "        [ 5.93284091e-01,  5.27189758e-01, -6.05168349e-01],\n",
       "        [-3.76038456e-03, -7.42750243e-03,  2.63030228e-04],\n",
       "        [-5.66562471e-04,  7.20838469e-11, -3.97228105e-06],\n",
       "        [-2.49731551e-04, -1.53330724e-06,  1.89695629e-04],\n",
       "        [ 4.12383011e-04, -4.78397763e-11,  4.31122082e-03],\n",
       "        [ 8.23967457e-03, -6.96271331e-02, -3.07098750e-01],\n",
       "        [ 2.54087117e-02,  1.31196467e-01,  1.21827835e-01],\n",
       "        [ 1.85109066e-02,  1.50103885e-02, -1.61360146e-02],\n",
       "        [-6.31891390e-03,  1.87706472e-04,  6.26431588e-04],\n",
       "        [-4.41191129e-03, -1.16135066e-05,  8.34456917e-03],\n",
       "        [ 2.15017049e-01, -1.16631465e-03,  2.45331464e-01],\n",
       "        [ 4.85569722e-01, -5.60929452e-01, -1.60295747e-01],\n",
       "        [-1.57375979e-01, -5.32417431e-02,  2.92795077e-01],\n",
       "        [-9.20894937e-02,  1.50020970e-01, -2.18612810e-01],\n",
       "        [ 4.76980433e-02,  2.35818788e-01, -1.70634626e-01],\n",
       "        [ 1.01651078e-01,  1.73527000e-01, -1.99795836e-01],\n",
       "        [-2.73911042e-01, -1.46648071e-02,  1.46228140e-01],\n",
       "        [-9.34031897e-02, -6.84650073e-02, -2.94825759e-01],\n",
       "        [ 1.16887706e-01, -6.91793724e-02,  1.15783759e-01],\n",
       "        [-6.48775612e-03, -2.05880388e-01,  1.95997557e-01],\n",
       "        [-3.18732689e-01, -1.89683398e-01,  6.16957641e-02],\n",
       "        [-1.85926941e-01, -9.53342847e-02, -3.72949139e-02],\n",
       "        [-1.85039419e-02, -1.10948387e-01,  2.81851383e-01],\n",
       "        [ 7.36428757e-02,  1.35786914e-01, -1.32764548e-01],\n",
       "        [-1.07858841e-01,  1.13031287e-01, -7.99192512e-02],\n",
       "        [-1.09292290e-01,  3.52530099e-02, -6.06661558e-02],\n",
       "        [ 2.20912931e-01,  2.57771110e-01, -3.93214788e-02],\n",
       "        [ 3.00715003e-02,  1.69603147e-01, -2.58704125e-01],\n",
       "        [-4.10363343e-01, -2.77766452e-01,  3.95557408e-01],\n",
       "        [ 1.72785373e-04,  4.04751212e-13, -3.85430883e-05],\n",
       "        [-9.54762739e-03, -1.69792437e-02, -1.48359887e-02],\n",
       "        [-1.78142692e-01,  1.60469315e-01,  2.46181198e-01],\n",
       "        [ 3.98473594e-13,  9.80474558e-13, -7.00155723e-05],\n",
       "        [ 1.37048100e-01,  1.74411044e-01, -4.51239119e-02],\n",
       "        [-1.25730495e-01, -1.28991873e-01, -6.73967771e-02],\n",
       "        [ 3.74256263e-01, -1.47039775e-01, -3.72514769e-01],\n",
       "        [ 3.02109459e-01, -2.40939841e-01, -7.73995124e-03],\n",
       "        [-1.11912841e-01, -3.22473541e-01, -1.56869711e-02],\n",
       "        [ 2.71280263e-03,  3.45690413e-03, -5.17510160e-05],\n",
       "        [ 5.60108182e-01, -5.84878765e-01, -2.13163206e-01],\n",
       "        [ 2.72079256e-02,  1.33650150e-01, -8.42140757e-02],\n",
       "        [ 2.71700201e-07, -7.01065218e-05,  1.41649432e-12],\n",
       "        [ 5.04289659e-03,  3.36294985e-03, -2.02549445e-04],\n",
       "        [ 4.08422810e-01,  4.18363444e-01, -1.12666479e-01],\n",
       "        [-5.52938265e-02, -1.00944379e-01,  3.74031818e-02],\n",
       "        [-1.40808758e-01,  1.59625830e-01, -1.79072077e-01],\n",
       "        [-9.93446595e-05, -4.80444890e-05, -5.93711510e-05],\n",
       "        [-3.08421523e-03,  3.07862974e-03, -4.13857672e-03],\n",
       "        [-3.66450274e-02, -1.20333449e-01,  9.20270494e-02],\n",
       "        [ 4.95132868e-01,  5.65497434e-01, -3.46048596e-01],\n",
       "        [-4.56598833e-01, -6.23558605e-01,  5.52102912e-01],\n",
       "        [ 1.47882709e-01,  2.93721405e-02, -9.02552170e-02],\n",
       "        [ 3.69231478e-02,  1.05712674e-01, -9.54000772e-02],\n",
       "        [ 7.95469552e-04,  3.18039571e-04,  2.84423703e-12],\n",
       "        [ 3.89088490e-01, -3.04584442e-01, -4.73701641e-01],\n",
       "        [-2.03584366e-01,  1.64663437e-01, -1.53381762e-01],\n",
       "        [-3.44171373e-04,  2.80022574e-06, -1.90335322e-06],\n",
       "        [ 2.54196800e-03,  2.72745594e-03,  5.48271047e-04],\n",
       "        [-1.44458530e-01,  1.52284672e-01, -1.29367336e-02],\n",
       "        [ 6.07566580e-01,  4.87330534e-01, -5.84618597e-01],\n",
       "        [-1.99423393e-01,  3.01548269e-01, -4.41559184e-02],\n",
       "        [-3.08404251e-01, -1.28182921e-01,  2.97922948e-01],\n",
       "        [ 1.36156234e-10, -1.26046837e-03,  5.07128670e-15],\n",
       "        [ 3.46917737e-01,  3.15775599e-01, -2.88588485e-01],\n",
       "        [ 2.86290082e-05,  1.25286682e-03,  8.19405462e-03],\n",
       "        [-1.52041880e-01,  1.25123627e-01,  2.63684182e-02],\n",
       "        [-5.77532490e-03,  3.42466312e-03,  6.65858460e-03],\n",
       "        [-1.32880141e-01, -1.40227278e-01,  1.42868334e-01],\n",
       "        [-6.47567613e-03,  4.31448171e-09,  3.03517592e-03],\n",
       "        [-2.82243300e-01,  3.08744779e-01,  3.73621131e-02],\n",
       "        [-1.24075151e-11, -2.55738706e-04,  4.25720273e-03],\n",
       "        [-3.85263225e-01, -2.27610567e-01,  7.60148229e-02],\n",
       "        [-9.50807805e-04, -3.66168403e-04, -8.29870986e-03],\n",
       "        [ 6.45946482e-05,  9.09707409e-05, -1.95454752e-04],\n",
       "        [ 3.61932660e-04,  3.22178359e-03,  5.62278899e-03],\n",
       "        [ 7.64759861e-04, -5.24733022e-03,  6.21253017e-03],\n",
       "        [ 1.36327669e-01, -1.61612553e-01, -1.99368780e-01],\n",
       "        [-2.91585053e-01, -1.76428669e-01,  3.89513825e-02],\n",
       "        [ 1.71184337e-01,  2.11941036e-01, -5.89586971e-01],\n",
       "        [ 1.56782383e-01, -1.20136801e-01,  1.51870912e-02],\n",
       "        [-5.93544209e-03, -3.38604541e-05,  9.69502363e-11],\n",
       "        [ 1.79277611e-01, -4.60338987e-02,  2.80695038e-01],\n",
       "        [-3.88863741e-01, -4.83578986e-02,  1.99155692e-01],\n",
       "        [ 2.57278156e-01, -1.34844598e-01, -1.27257836e-01],\n",
       "        [ 5.02849997e-12,  7.25453109e-03,  3.20705877e-04],\n",
       "        [ 5.60206860e-01,  4.80500348e-01, -5.34167286e-01],\n",
       "        [-4.17347773e-01,  1.20704839e-01,  7.54512192e-02],\n",
       "        [-1.09837096e-12, -1.11870703e-03,  1.88954379e-03]])]"
      ]
     },
     "execution_count": 55,
     "metadata": {},
     "output_type": "execute_result"
    }
   ],
   "source": [
    "model.fit(X, y)\n",
    "model.n_layers_\n",
    "model.coefs_"
   ]
  },
  {
   "cell_type": "code",
   "execution_count": 56,
   "metadata": {},
   "outputs": [
    {
     "data": {
      "text/plain": [
       "(150, 4)"
      ]
     },
     "execution_count": 56,
     "metadata": {},
     "output_type": "execute_result"
    },
    {
     "data": {
      "text/plain": [
       "(4, 100)"
      ]
     },
     "execution_count": 56,
     "metadata": {},
     "output_type": "execute_result"
    },
    {
     "data": {
      "text/plain": [
       "(100, 3)"
      ]
     },
     "execution_count": 56,
     "metadata": {},
     "output_type": "execute_result"
    }
   ],
   "source": [
    "X.shape\n",
    "model.coefs_[0].shape\n",
    "model.coefs_[1].shape\n",
    "\n",
    "# the dimensions are compatible for the matrix multiplication"
   ]
  },
  {
   "cell_type": "markdown",
   "metadata": {},
   "source": [
    "# Question 2"
   ]
  },
  {
   "cell_type": "code",
   "execution_count": 60,
   "metadata": {},
   "outputs": [
    {
     "data": {
      "text/plain": [
       "0.9638888888888889"
      ]
     },
     "execution_count": 60,
     "metadata": {},
     "output_type": "execute_result"
    }
   ],
   "source": [
    "scaler = StandardScaler()\n",
    "model = MLPClassifier(max_iter=1000)\n",
    "\n",
    "pipeline = Pipeline([('scaler', scaler), ('estimator', model)])\n",
    "\n",
    "ss = cross_val_score(pipeline, X, y, cv=20)\n",
    "np.mean(ss)"
   ]
  },
  {
   "cell_type": "markdown",
   "metadata": {},
   "source": [
    "The cross-validated accuracy is lower after scaling (97% vs 96%)\n",
    "\n",
    "Why does MLP needs scaling? This is because MLP's weights are shared across all of the input features; features with larger scales will be given more importance by the model purely because they are of a larger magnitude.\n",
    "\n",
    "In this case is it a problem? In this case all features are measured in mm and in a very close range. This means that the values of the features are directly comparable. Scaling down to mean=0, sd=1, can actually cause us to denoise out important differences in the magnitudes of these features that help us to classify instances."
   ]
  },
  {
   "cell_type": "code",
   "execution_count": 61,
   "metadata": {},
   "outputs": [],
   "source": [
    "?pipeline"
   ]
  },
  {
   "cell_type": "markdown",
   "metadata": {},
   "source": [
    "# Question 3"
   ]
  },
  {
   "cell_type": "code",
   "execution_count": 90,
   "metadata": {},
   "outputs": [],
   "source": [
    "names = [\"sex\", \"length\", \"diameter\", \"height\",\n",
    "         \"whole_weight\", \"shucked_weight\", \"viscera_weight\", \"shell_weight\",\n",
    "         \"rings\"]\n",
    "abalone = pd.read_csv(\"./data/abalone.csv\", header=None, names=names)\n",
    "\n",
    "abalone[\"sex\"] = abalone[\"sex\"].astype(\"category\").cat.codes\n",
    "abalone[\"rings_2class\"] = abalone[\"rings\"].apply(lambda rings : 0 if rings <= 10 else 1)\n",
    "\n",
    "X = abalone.drop(columns=[\"rings\", \"rings_2class\"], axis=1)\n",
    "y = abalone[\"rings_2class\"]"
   ]
  },
  {
   "cell_type": "code",
   "execution_count": 91,
   "metadata": {},
   "outputs": [
    {
     "data": {
      "text/plain": [
       "MLPClassifier(activation='relu', alpha=0.0001, batch_size='auto', beta_1=0.9,\n",
       "              beta_2=0.999, early_stopping=False, epsilon=1e-08,\n",
       "              hidden_layer_sizes=[200, 200], learning_rate='constant',\n",
       "              learning_rate_init=0.001, max_iter=1000, momentum=0.9,\n",
       "              n_iter_no_change=10, nesterovs_momentum=True, power_t=0.5,\n",
       "              random_state=None, shuffle=True, solver='adam', tol=0.0001,\n",
       "              validation_fraction=0.1, verbose=False, warm_start=False)"
      ]
     },
     "execution_count": 91,
     "metadata": {},
     "output_type": "execute_result"
    },
    {
     "data": {
      "image/png": "[encoded data removed]",
      "text/plain": [
       "<matplotlib.figure.Figure at 0x1a1b4b41d0>"
      ]
     },
     "metadata": {},
     "output_type": "display_data"
    },
    {
     "data": {
      "image/png": "[encoded data removed]",
      "text/plain": [
       "<matplotlib.figure.Figure at 0x1a1b4ae860>"
      ]
     },
     "metadata": {},
     "output_type": "display_data"
    }
   ],
   "source": [
    "model_1 = MLPClassifier(hidden_layer_sizes=([200, 200]), max_iter=1000)\n",
    "model_1.fit(X, y)\n",
    "none = plt.hist(model_1.coefs_[1])\n",
    "plt.show()\n",
    "none = plt.hist(model_1.coefs_[2])\n",
    "plt.show()"
   ]
  },
  {
   "cell_type": "code",
   "execution_count": 92,
   "metadata": {},
   "outputs": [
    {
     "data": {
      "text/plain": [
       "MLPClassifier(activation='relu', alpha=0.0001, batch_size='auto', beta_1=0.9,\n",
       "              beta_2=0.999, early_stopping=False, epsilon=1e-08,\n",
       "              hidden_layer_sizes=[20, 20], learning_rate='constant',\n",
       "              learning_rate_init=0.001, max_iter=1000, momentum=0.9,\n",
       "              n_iter_no_change=10, nesterovs_momentum=True, power_t=0.5,\n",
       "              random_state=None, shuffle=True, solver='adam', tol=0.0001,\n",
       "              validation_fraction=0.1, verbose=False, warm_start=False)"
      ]
     },
     "execution_count": 92,
     "metadata": {},
     "output_type": "execute_result"
    },
    {
     "data": {
      "image/png": "[encoded data removed]",
      "text/plain": [
       "<matplotlib.figure.Figure at 0x1a2272d5c0>"
      ]
     },
     "metadata": {},
     "output_type": "display_data"
    },
    {
     "data": {
      "image/png": "[encoded data removed]",
      "text/plain": [
       "<matplotlib.figure.Figure at 0x1a1dd8ac50>"
      ]
     },
     "metadata": {},
     "output_type": "display_data"
    }
   ],
   "source": [
    "model_2 = MLPClassifier(hidden_layer_sizes=([20, 20]), max_iter=1000)\n",
    "model_2.fit(X, y)\n",
    "none = plt.hist(model_2.coefs_[1])\n",
    "plt.show()\n",
    "none = plt.hist(model_2.coefs_[2])\n",
    "plt.show()"
   ]
  },
  {
   "cell_type": "markdown",
   "metadata": {},
   "source": [
    "When you increase the size of layers, you expect to see a lot more weights that are close to zero, this basically means the network just doesn't use them in classification.\n",
    "\n",
    "What relationship is there between weights across layers? We expect that if a cell has many incoming weights that are near zero, then all of its outgoing weights should also be near zero.\n",
    "\n",
    "What is the relationship between weights across layers of varying sizes? If you have a layer that is very wide, then you expect its weights to be smaller on average than a layer that is not very wide (wide = lots of hidden cells). That is if you have a wide layer going into a thin layer, then you expect the weights on the wide layre to be on average of lower magnitude than the weights going out of the thin layer."
   ]
  },
  {
   "cell_type": "markdown",
   "metadata": {},
   "source": [
    "# Question 4"
   ]
  },
  {
   "cell_type": "code",
   "execution_count": 93,
   "metadata": {},
   "outputs": [
    {
     "data": {
      "text/plain": [
       "[1e-05, 0.0001, 0.001, 0.01, 0.1, 1.0, 10.0, 100.0, 1000.0]"
      ]
     },
     "execution_count": 93,
     "metadata": {},
     "output_type": "execute_result"
    }
   ],
   "source": [
    "alphas = [np.power(10.0, i) for i in range(-5, 4)]\n",
    "alphas\n",
    "# what is alpha, it is a weight assigned to the regularisation cost."
   ]
  },
  {
   "cell_type": "code",
   "execution_count": 94,
   "metadata": {},
   "outputs": [
    {
     "name": "stdout",
     "output_type": "stream",
     "text": [
      "=====================================\n",
      "alpha:  1e-05\n",
      "cv accuracy:  0.7878878606423517\n",
      "cv stddev:  0.014722849393182514\n",
      "=====================================\n",
      "alpha:  0.0001\n",
      "cv accuracy:  0.7842953327794173\n",
      "cv stddev:  0.012673455629212042\n",
      "=====================================\n",
      "alpha:  0.001\n",
      "cv accuracy:  0.787168724751454\n",
      "cv stddev:  0.01302309858959578\n",
      "=====================================\n",
      "alpha:  0.01\n",
      "cv accuracy:  0.7874093917428301\n",
      "cv stddev:  0.014507020286207147\n",
      "=====================================\n",
      "alpha:  0.1\n",
      "cv accuracy:  0.7859719794860041\n",
      "cv stddev:  0.010748846143834659\n",
      "=====================================\n",
      "alpha:  1.0\n",
      "cv accuracy:  0.7780680743775606\n",
      "cv stddev:  0.023008565881329508\n",
      "=====================================\n",
      "alpha:  10.0\n",
      "cv accuracy:  0.7378540526602297\n",
      "cv stddev:  0.02917647316328004\n",
      "=====================================\n",
      "alpha:  100.0\n",
      "cv accuracy:  0.6535793484800733\n",
      "cv stddev:  0.0003831823624214271\n",
      "=====================================\n",
      "alpha:  1000.0\n",
      "cv accuracy:  0.6535793484800733\n",
      "cv stddev:  0.0003831823624214271\n",
      "=====================================\n"
     ]
    }
   ],
   "source": [
    "print(\"=====================================\")\n",
    "for alpha in alphas:\n",
    "    mlp = MLPClassifier(max_iter=2000, alpha=alpha)\n",
    "    pipeline = Pipeline([('transformer', scaler), ('estimator', mlp)])\n",
    "    scores = cross_val_score(pipeline, X, y, cv=5)\n",
    "    print(\"alpha: \", alpha)\n",
    "    print(\"cv accuracy: \",  np.mean(scores))\n",
    "    print(\"cv stddev: \", np.std(scores))\n",
    "    print(\"=====================================\")"
   ]
  },
  {
   "cell_type": "markdown",
   "metadata": {},
   "source": [
    "What happens to the sd of cv accuracy as we increase alpha? Recall: increasing alpha adds weight to the regularisation term which penalises overfitting. As we increase alpha, we get lower cv accuracy, but also lower cv variance.\n",
    "\n",
    "Why does it happen? By heavily penalising the weights' deviation from zero, you force them all to be nearly zero. Consequently, nearly every model that you create will be the same (or very similar), they all will just have near zero weights. Consequently, models that perform similarly (badly) in for all possible training/test partitions."
   ]
  },
  {
   "cell_type": "code",
   "execution_count": 97,
   "metadata": {},
   "outputs": [
    {
     "data": {
      "text/plain": [
       "MLPClassifier(activation='relu', alpha=1000.0, batch_size='auto', beta_1=0.9,\n",
       "              beta_2=0.999, early_stopping=False, epsilon=1e-08,\n",
       "              hidden_layer_sizes=(100,), learning_rate='constant',\n",
       "              learning_rate_init=0.001, max_iter=2000, momentum=0.9,\n",
       "              n_iter_no_change=10, nesterovs_momentum=True, power_t=0.5,\n",
       "              random_state=None, shuffle=True, solver='adam', tol=0.0001,\n",
       "              validation_fraction=0.1, verbose=False, warm_start=False)"
      ]
     },
     "execution_count": 97,
     "metadata": {},
     "output_type": "execute_result"
    },
    {
     "data": {
      "text/plain": [
       "0.6373205741626794"
      ]
     },
     "execution_count": 97,
     "metadata": {},
     "output_type": "execute_result"
    }
   ],
   "source": [
    "X_train, X_test, y_train, y_test = train_test_split(X, y)\n",
    "\n",
    "mlp.fit(X_train, y_train)\n",
    "mlp.score(X_test, y_test)\n",
    "\n",
    "# the space of parameter values to test\n",
    "alphas = [1e-05, 0.0001, 0.001, 0.01, 0.1, 1.0, 10.0, 100.0, 1000.0]\n",
    "hidden_layer_sizes = [ [100,100], [10,10], [5,5,5] ]\n",
    "param_grid = {'alpha': alphas, 'hidden_layer_sizes' : hidden_layer_sizes}"
   ]
  },
  {
   "cell_type": "code",
   "execution_count": 106,
   "metadata": {},
   "outputs": [
    {
     "name": "stdout",
     "output_type": "stream",
     "text": [
      "Fitting 3 folds for each of 27 candidates, totalling 81 fits\n"
     ]
    },
    {
     "name": "stderr",
     "output_type": "stream",
     "text": [
      "[Parallel(n_jobs=-1)]: Using backend LokyBackend with 8 concurrent workers.\n",
      "[Parallel(n_jobs=-1)]: Done  34 tasks      | elapsed:   24.6s\n",
      "[Parallel(n_jobs=-1)]: Done  81 out of  81 | elapsed:   41.6s finished\n"
     ]
    },
    {
     "data": {
      "text/plain": [
       "GridSearchCV(cv=3, error_score='raise-deprecating',\n",
       "             estimator=MLPClassifier(activation='relu', alpha=1000.0,\n",
       "                                     batch_size='auto', beta_1=0.9,\n",
       "                                     beta_2=0.999, early_stopping=False,\n",
       "                                     epsilon=1e-08, hidden_layer_sizes=(100,),\n",
       "                                     learning_rate='constant',\n",
       "                                     learning_rate_init=0.001, max_iter=2000,\n",
       "                                     momentum=0.9, n_iter_no_change=10,\n",
       "                                     nesterovs_momentum=True, power_t=0.5,\n",
       "                                     random_state=None, shuffle=True,\n",
       "                                     solver='adam', tol=0.0001,\n",
       "                                     validation_fraction=0.1, verbose=False,\n",
       "                                     warm_start=False),\n",
       "             iid='warn', n_jobs=-1,\n",
       "             param_grid={'alpha': [1e-05, 0.0001, 0.001, 0.01, 0.1, 1.0, 10.0,\n",
       "                                   100.0, 1000.0],\n",
       "                         'hidden_layer_sizes': [[100, 100], [10, 10],\n",
       "                                                [5, 5, 5]]},\n",
       "             pre_dispatch='2*n_jobs', refit=True, return_train_score=False,\n",
       "             scoring='accuracy', verbose=1)"
      ]
     },
     "execution_count": 106,
     "metadata": {},
     "output_type": "execute_result"
    }
   ],
   "source": [
    "gs = GridSearchCV(estimator=mlp, param_grid=param_grid, scoring='accuracy', cv=3, n_jobs=-1, verbose=1)\n",
    "gs.fit(X_train, y_train)"
   ]
  },
  {
   "cell_type": "code",
   "execution_count": 107,
   "metadata": {},
   "outputs": [
    {
     "data": {
      "text/plain": [
       "{'alpha': 0.001, 'hidden_layer_sizes': [100, 100]}"
      ]
     },
     "execution_count": 107,
     "metadata": {},
     "output_type": "execute_result"
    }
   ],
   "source": [
    "gs.best_params_"
   ]
  },
  {
   "cell_type": "code",
   "execution_count": 108,
   "metadata": {},
   "outputs": [
    {
     "data": {
      "text/plain": [
       "MLPClassifier(activation='relu', alpha=0.001, batch_size='auto', beta_1=0.9,\n",
       "              beta_2=0.999, early_stopping=False, epsilon=1e-08,\n",
       "              hidden_layer_sizes=[100, 100], learning_rate='constant',\n",
       "              learning_rate_init=0.001, max_iter=2000, momentum=0.9,\n",
       "              n_iter_no_change=10, nesterovs_momentum=True, power_t=0.5,\n",
       "              random_state=None, shuffle=True, solver='adam', tol=0.0001,\n",
       "              validation_fraction=0.1, verbose=False, warm_start=False)"
      ]
     },
     "execution_count": 108,
     "metadata": {},
     "output_type": "execute_result"
    },
    {
     "data": {
      "text/plain": [
       "0.7894736842105263"
      ]
     },
     "execution_count": 108,
     "metadata": {},
     "output_type": "execute_result"
    }
   ],
   "source": [
    "mlp = MLPClassifier(max_iter=2000, **gs.best_params_)\n",
    "mlp.fit(X_train, y_train)\n",
    "mlp.score(X_test, y_test)"
   ]
  },
  {
   "cell_type": "code",
   "execution_count": null,
   "metadata": {},
   "outputs": [],
   "source": []
  }
 ],
 "metadata": {
  "kernelspec": {
   "display_name": "Python 3",
   "language": "python",
   "name": "python3"
  },
  "language_info": {
   "codemirror_mode": {
    "name": "ipython",
    "version": 3
   },
   "file_extension": ".py",
   "mimetype": "text/x-python",
   "name": "python",
   "nbconvert_exporter": "python",
   "pygments_lexer": "ipython3",
   "version": "3.6.8"
  }
 },
 "nbformat": 4,
 "nbformat_minor": 2
}
