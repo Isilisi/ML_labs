{
 "cells": [
  {
   "cell_type": "code",
   "execution_count": 39,
   "metadata": {},
   "outputs": [],
   "source": [
    "from IPython.core.interactiveshell import InteractiveShell\n",
    "InteractiveShell.ast_node_interactivity = \"all\"\n",
    "\n",
    "import pandas as pd\n",
    "import numpy as np\n",
    "from sklearn.cluster import KMeans\n",
    "from scipy.stats import entropy"
   ]
  },
  {
   "cell_type": "markdown",
   "metadata": {},
   "source": [
    "## Question 1"
   ]
  },
  {
   "cell_type": "code",
   "execution_count": 27,
   "metadata": {},
   "outputs": [
    {
     "data": {
      "text/html": [
       "<div>\n",
       "<style scoped>\n",
       "    .dataframe tbody tr th:only-of-type {\n",
       "        vertical-align: middle;\n",
       "    }\n",
       "\n",
       "    .dataframe tbody tr th {\n",
       "        vertical-align: top;\n",
       "    }\n",
       "\n",
       "    .dataframe thead th {\n",
       "        text-align: right;\n",
       "    }\n",
       "</style>\n",
       "<table border=\"1\" class=\"dataframe\">\n",
       "  <thead>\n",
       "    <tr style=\"text-align: right;\">\n",
       "      <th></th>\n",
       "      <th>sex</th>\n",
       "      <th>length</th>\n",
       "      <th>diameter</th>\n",
       "      <th>height</th>\n",
       "      <th>whole_weight</th>\n",
       "      <th>shucked_weight</th>\n",
       "      <th>viscera_weight</th>\n",
       "      <th>shell_weight</th>\n",
       "      <th>rings</th>\n",
       "    </tr>\n",
       "  </thead>\n",
       "  <tbody>\n",
       "    <tr>\n",
       "      <th>0</th>\n",
       "      <td>M</td>\n",
       "      <td>0.455</td>\n",
       "      <td>0.365</td>\n",
       "      <td>0.095</td>\n",
       "      <td>0.5140</td>\n",
       "      <td>0.2245</td>\n",
       "      <td>0.1010</td>\n",
       "      <td>0.150</td>\n",
       "      <td>15</td>\n",
       "    </tr>\n",
       "    <tr>\n",
       "      <th>1</th>\n",
       "      <td>M</td>\n",
       "      <td>0.350</td>\n",
       "      <td>0.265</td>\n",
       "      <td>0.090</td>\n",
       "      <td>0.2255</td>\n",
       "      <td>0.0995</td>\n",
       "      <td>0.0485</td>\n",
       "      <td>0.070</td>\n",
       "      <td>7</td>\n",
       "    </tr>\n",
       "    <tr>\n",
       "      <th>2</th>\n",
       "      <td>F</td>\n",
       "      <td>0.530</td>\n",
       "      <td>0.420</td>\n",
       "      <td>0.135</td>\n",
       "      <td>0.6770</td>\n",
       "      <td>0.2565</td>\n",
       "      <td>0.1415</td>\n",
       "      <td>0.210</td>\n",
       "      <td>9</td>\n",
       "    </tr>\n",
       "    <tr>\n",
       "      <th>3</th>\n",
       "      <td>M</td>\n",
       "      <td>0.440</td>\n",
       "      <td>0.365</td>\n",
       "      <td>0.125</td>\n",
       "      <td>0.5160</td>\n",
       "      <td>0.2155</td>\n",
       "      <td>0.1140</td>\n",
       "      <td>0.155</td>\n",
       "      <td>10</td>\n",
       "    </tr>\n",
       "    <tr>\n",
       "      <th>4</th>\n",
       "      <td>I</td>\n",
       "      <td>0.330</td>\n",
       "      <td>0.255</td>\n",
       "      <td>0.080</td>\n",
       "      <td>0.2050</td>\n",
       "      <td>0.0895</td>\n",
       "      <td>0.0395</td>\n",
       "      <td>0.055</td>\n",
       "      <td>7</td>\n",
       "    </tr>\n",
       "  </tbody>\n",
       "</table>\n",
       "</div>"
      ],
      "text/plain": [
       "  sex  length  diameter  height  whole_weight  shucked_weight  viscera_weight  \\\n",
       "0   M   0.455     0.365   0.095        0.5140          0.2245          0.1010   \n",
       "1   M   0.350     0.265   0.090        0.2255          0.0995          0.0485   \n",
       "2   F   0.530     0.420   0.135        0.6770          0.2565          0.1415   \n",
       "3   M   0.440     0.365   0.125        0.5160          0.2155          0.1140   \n",
       "4   I   0.330     0.255   0.080        0.2050          0.0895          0.0395   \n",
       "\n",
       "   shell_weight  rings  \n",
       "0         0.150     15  \n",
       "1         0.070      7  \n",
       "2         0.210      9  \n",
       "3         0.155     10  \n",
       "4         0.055      7  "
      ]
     },
     "execution_count": 27,
     "metadata": {},
     "output_type": "execute_result"
    },
    {
     "data": {
      "text/plain": [
       "array([3, 1, 2, ..., 2, 2, 3])"
      ]
     },
     "execution_count": 27,
     "metadata": {},
     "output_type": "execute_result"
    },
    {
     "data": {
      "text/plain": [
       "array([[2.    , 0.455 , 0.365 , ..., 0.2245, 0.101 , 0.15  ],\n",
       "       [2.    , 0.35  , 0.265 , ..., 0.0995, 0.0485, 0.07  ],\n",
       "       [0.    , 0.53  , 0.42  , ..., 0.2565, 0.1415, 0.21  ],\n",
       "       ...,\n",
       "       [2.    , 0.6   , 0.475 , ..., 0.5255, 0.2875, 0.308 ],\n",
       "       [0.    , 0.625 , 0.485 , ..., 0.531 , 0.261 , 0.296 ],\n",
       "       [2.    , 0.71  , 0.555 , ..., 0.9455, 0.3765, 0.495 ]])"
      ]
     },
     "execution_count": 27,
     "metadata": {},
     "output_type": "execute_result"
    }
   ],
   "source": [
    "names = ['sex', 'length', 'diameter', 'height', 'whole_weight',\n",
    "         'shucked_weight', 'viscera_weight', 'shell_weight', 'rings']\n",
    "data = pd.read_csv(\"./data/abalone.csv\", header=None, names=names)\n",
    "data.head()\n",
    "\n",
    "y0 = data['rings'].values\n",
    "bins = np.array([0, 8.5, 10.5, 30])\n",
    "y = np.digitize(y0, bins=bins)\n",
    "y\n",
    "\n",
    "X = data.loc[:, :'shell_weight']\n",
    "X['sex'] = X['sex'].astype('category').cat.codes\n",
    "X = X.values\n",
    "X"
   ]
  },
  {
   "cell_type": "code",
   "execution_count": 54,
   "metadata": {},
   "outputs": [
    {
     "data": {
      "text/plain": [
       "KMeans(algorithm='auto', copy_x=True, init='k-means++', max_iter=300,\n",
       "    n_clusters=3, n_init=10, n_jobs=1, precompute_distances='auto',\n",
       "    random_state=None, tol=0.0001, verbose=0)"
      ]
     },
     "execution_count": 54,
     "metadata": {},
     "output_type": "execute_result"
    }
   ],
   "source": [
    "model = KMeans(n_clusters=3)\n",
    "model.fit(X)\n",
    "km_centroids = model.cluster_centers_"
   ]
  },
  {
   "cell_type": "code",
   "execution_count": 48,
   "metadata": {},
   "outputs": [
    {
     "data": {
      "text/plain": [
       "(0.9440174748968634, 0.524778549197989)"
      ]
     },
     "execution_count": 48,
     "metadata": {},
     "output_type": "execute_result"
    }
   ],
   "source": [
    "def single_class_entropy(y):\n",
    "    _, counts = np.unique(y, return_counts=True)\n",
    "    prop = counts / len(y)\n",
    "    return entropy(prop)\n",
    "\n",
    "def single_class_purity(y):\n",
    "    _, counts = np.unique(y, return_counts=True)\n",
    "    prop = counts / len(y)\n",
    "    return np.max(prop)\n",
    "\n",
    "\n",
    "def evaluate(y_predicted, clusters):\n",
    "    \n",
    "    entropy = 0\n",
    "    purity = 0\n",
    "    \n",
    "    for cluster in np.unique(clusters):\n",
    "        \n",
    "        class_distr = y_predicted[clusters == cluster]\n",
    "        \n",
    "        cluster_weight = len(class_distr) / len(clusters)\n",
    "        \n",
    "        entropy += single_class_entropy(class_distr) * cluster_weight\n",
    "        purity += single_class_purity(class_distr) * cluster_weight\n",
    "    \n",
    "    return entropy, purity\n",
    "\n",
    "evaluate(model.predict(X), y)"
   ]
  },
  {
   "cell_type": "code",
   "execution_count": null,
   "metadata": {},
   "outputs": [],
   "source": []
  },
  {
   "cell_type": "markdown",
   "metadata": {},
   "source": [
    "## Question 2"
   ]
  },
  {
   "cell_type": "markdown",
   "metadata": {},
   "source": [
    "### a)\n",
    "What is expecation maximisation?\n",
    "\n",
    "It is an iterative methdo for estimating the parameters in a statistical model. It consists of three steps:\n",
    "    (1) Initialization -- initialize the parameters of the model randomly (or according to some other method)\n",
    "    (2) Expectation -- define a likelihood prediction function over the data using the current parameters.\n",
    "    (3) Maximisation -- update the model to maximize the likelihood function over the data\n",
    "(2) and (3) are repeated until convergence.\n",
    "\n",
    "For example, in Gaussian Mixture Models:\n",
    "\n",
    "Consider data to have been generated by one of N Gaussian distributions. We want to know which distribution each instance belongs.\n",
    "The parameters are MEAN and SD of each of the Gaussians\n",
    "steps:\n",
    "    (1) Initialisation -- either initialize parameters randomly, or estimate (e.g. with KMeans)\n",
    "    (2) Exepctation -- define a likelihood using current estimates for MEAN and SD\n",
    "    (3) Maximisation -- assign each instance to a class that gives it the highest likelihood. Then re-estimate the parameters."
   ]
  },
  {
   "cell_type": "markdown",
   "metadata": {},
   "source": [
    "### b)\n",
    "Effect of initializing using K-Means\n",
    "\n",
    "If KMeans does a good job of approximating the true clusters: GMM should converge quickly and on a good approximation of true clusters.\n",
    "If KMeans does a terrible job of approximating the true clusters: GMM may take longer to converge and/or find a local solution.\n",
    "\n",
    "KMeans is basically the same as GMM, except GMM is probabilistic."
   ]
  },
  {
   "cell_type": "code",
   "execution_count": 61,
   "metadata": {},
   "outputs": [
    {
     "data": {
      "text/plain": [
       "GaussianMixture(covariance_type='full', init_params='kmeans', max_iter=100,\n",
       "        means_init=None, n_components=3, n_init=1, precisions_init=None,\n",
       "        random_state=None, reg_covar=1e-06, tol=0.001, verbose=0,\n",
       "        verbose_interval=10, warm_start=False, weights_init=None)"
      ]
     },
     "execution_count": 61,
     "metadata": {},
     "output_type": "execute_result"
    },
    {
     "data": {
      "text/plain": [
       "(0.9599168786955169, 0.5149628920277711)"
      ]
     },
     "execution_count": 61,
     "metadata": {},
     "output_type": "execute_result"
    }
   ],
   "source": [
    "from sklearn.mixture import GaussianMixture\n",
    "\n",
    "gmm = GaussianMixture(n_components=3)\n",
    "gmm.fit(X)\n",
    "\n",
    "gmm_centroids = gmm.means_\n",
    "\n",
    "clusters = gmm.predict(X)\n",
    "\n",
    "evaluate(clusters, y)"
   ]
  },
  {
   "cell_type": "markdown",
   "metadata": {},
   "source": [
    "GMM is using KMM to come up with its initial clusters centroids, thus the two methods give very similar results."
   ]
  },
  {
   "cell_type": "code",
   "execution_count": 62,
   "metadata": {},
   "outputs": [
    {
     "data": {
      "text/plain": [
       "array([[ 1.99098474e+00,  5.79323856e-01,  4.53959778e-01,\n",
       "         1.56553398e-01,  1.05317372e+00,  4.60087032e-01,\n",
       "         2.28861304e-01,  2.99109570e-01],\n",
       "       [-2.64233080e-14,  5.79326187e-01,  4.54931087e-01,\n",
       "         1.58078101e-01,  1.04727221e+00,  4.46505743e-01,\n",
       "         2.30848775e-01,  3.02222052e-01],\n",
       "       [ 1.06857943e+00,  4.17585724e-01,  3.18383485e-01,\n",
       "         1.05360392e-01,  4.02548635e-01,  1.78093772e-01,\n",
       "         8.59573128e-02,  1.20068929e-01]])"
      ]
     },
     "execution_count": 62,
     "metadata": {},
     "output_type": "execute_result"
    },
    {
     "data": {
      "text/plain": [
       "array([[1.        , 0.4277459 , 0.32649404, 0.10799553, 0.43136252,\n",
       "        0.19103502, 0.09201006, 0.12818219],\n",
       "       [2.        , 0.56139071, 0.43928665, 0.15138089, 0.99145942,\n",
       "        0.43294601, 0.2155445 , 0.28196924],\n",
       "       [0.        , 0.57909334, 0.45473221, 0.15801071, 1.04653213,\n",
       "        0.44618783, 0.2306886 , 0.30200995]])"
      ]
     },
     "execution_count": 62,
     "metadata": {},
     "output_type": "execute_result"
    }
   ],
   "source": [
    "km_centroids\n",
    "gmm_centroids"
   ]
  },
  {
   "cell_type": "code",
   "execution_count": null,
   "metadata": {},
   "outputs": [],
   "source": []
  }
 ],
 "metadata": {
  "kernelspec": {
   "display_name": "Python 3",
   "language": "python",
   "name": "python3"
  },
  "language_info": {
   "codemirror_mode": {
    "name": "ipython",
    "version": 3
   },
   "file_extension": ".py",
   "mimetype": "text/x-python",
   "name": "python",
   "nbconvert_exporter": "python",
   "pygments_lexer": "ipython3",
   "version": "3.6.4"
  }
 },
 "nbformat": 4,
 "nbformat_minor": 2
}
