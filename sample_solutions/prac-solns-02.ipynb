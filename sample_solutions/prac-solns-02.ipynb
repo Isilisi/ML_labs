{
 "cells": [
  {
   "cell_type": "markdown",
   "metadata": {},
   "source": [
    "# The University of Melbourne, School of Computing and Information Systems\n",
    "# COMP30027 Machine Learning, 2019 Semester 1\n",
    "-----\n",
    "## Practical, Week 2 - sample solutions"
   ]
  },
  {
   "cell_type": "code",
   "execution_count": 1,
   "metadata": {
    "collapsed": true
   },
   "outputs": [],
   "source": [
    "import numpy as np\n",
    "from math import sqrt\n",
    "from time import time\n",
    "import random"
   ]
  },
  {
   "cell_type": "markdown",
   "metadata": {},
   "source": [
    "#### Question 2"
   ]
  },
  {
   "cell_type": "code",
   "execution_count": 2,
   "metadata": {},
   "outputs": [
    {
     "name": "stdout",
     "output_type": "stream",
     "text": [
      "[1 4 0 3 4]\n",
      "[-1 -2  4  3  4]\n",
      "[  3   7 -10  -6  -8]\n"
     ]
    }
   ],
   "source": [
    "#Q2a\n",
    "a = np.array([0,1,2,3,4])\n",
    "b = np.array([1,3,-2,0,0])\n",
    "print(a+b)\n",
    "print(a-b)\n",
    "print(3*b - 2*a)"
   ]
  },
  {
   "cell_type": "code",
   "execution_count": 3,
   "metadata": {},
   "outputs": [
    {
     "name": "stdout",
     "output_type": "stream",
     "text": [
      "6.782329983125268\n"
     ]
    }
   ],
   "source": [
    "#Q2b\n",
    "def my_euclidean_dist(a,b):\n",
    "    assert len(a)==len(b), \"Arrays are of different sizes!\"\n",
    "    return sqrt(sum([(a[i]-b[i])*(a[i]-b[i]) for i in range(len(a))]))\n",
    "print(my_euclidean_dist(a,b))"
   ]
  },
  {
   "cell_type": "code",
   "execution_count": 4,
   "metadata": {},
   "outputs": [
    {
     "name": "stdout",
     "output_type": "stream",
     "text": [
      "3\n"
     ]
    }
   ],
   "source": [
    "#Q2c\n",
    "def my_hamming(a,b):\n",
    "    assert len(a)==len(b), \"Lists are of different lengths!\"\n",
    "    return sum([a[i]!=b[i] for i in range(len(a))])\n",
    "print(my_hamming([0,\"cat\",800,\"??\"],[1,\"dog\",-266,\"??\"]))"
   ]
  },
  {
   "cell_type": "markdown",
   "metadata": {},
   "source": [
    "There are 3 different elements in these lists; of the four elements, only \"??\" is shared.\n",
    "\n",
    "Due to the mixture of data types, these have to be Python lists, not numpy arrays."
   ]
  },
  {
   "cell_type": "markdown",
   "metadata": {},
   "source": [
    "#### Question 3"
   ]
  },
  {
   "cell_type": "code",
   "execution_count": 5,
   "metadata": {},
   "outputs": [
    {
     "name": "stdout",
     "output_type": "stream",
     "text": [
      "3\n",
      "6\n",
      "9\n",
      "0\n"
     ]
    }
   ],
   "source": [
    "#Q3a\n",
    "def my_dot(a,b):\n",
    "    assert len(a)==len(b), \"Arrays are of different sizes!\"\n",
    "    return sum([a[i]*b[i] for i in range(len(a))])\n",
    "print(my_dot(np.array([1,2]),np.array([1,1])))\n",
    "print(my_dot(np.array([1,2]),np.array([2,2])))\n",
    "print(my_dot(np.array([1,2]),np.array([3,3])))\n",
    "print(my_dot(np.array([0,0,1]),np.array([1,0,0])))"
   ]
  },
  {
   "cell_type": "code",
   "execution_count": 6,
   "metadata": {},
   "outputs": [
    {
     "name": "stdout",
     "output_type": "stream",
     "text": [
      "0.9486832980505138\n",
      "0.9486832980505138\n",
      "0.9486832980505138\n",
      "0.0\n"
     ]
    }
   ],
   "source": [
    "#Q3b\n",
    "def clumsy_cos(a,b):\n",
    "    assert len(a)==len(b), \"Arrays are of different sizes!\"\n",
    "    return (my_dot(a,b)/(my_euclidean_dist(a,np.array([0]*len(a))) * my_euclidean_dist(b,np.array([0]*len(b)))))\n",
    "print(clumsy_cos(np.array([1,2]),np.array([1,1])))\n",
    "print(clumsy_cos(np.array([1,2]),np.array([2,2])))\n",
    "print(clumsy_cos(np.array([1,2]),np.array([3,3])))\n",
    "print(clumsy_cos(np.array([0,0,1]),np.array([1,0,0])))"
   ]
  },
  {
   "cell_type": "markdown",
   "metadata": {},
   "source": [
    "Cosine is a function of the angle between two vectors. For the first three examples, the cosine value is the same, because the second vector changes in length, but not in direction.\n",
    "\n",
    "For the fourth example, it is obvious that the cosine will be 0, because the dot product is 0 - here, the two vectors are perpendicular."
   ]
  },
  {
   "cell_type": "code",
   "execution_count": 7,
   "metadata": {},
   "outputs": [
    {
     "name": "stdout",
     "output_type": "stream",
     "text": [
      "-0.048795003647426664\n",
      "-0.048795003647426664\n",
      "Clumsy:  34.03769588470459 seconds\n",
      "Numpy:  19.394791841506958 seconds\n"
     ]
    }
   ],
   "source": [
    "#Q3c\n",
    "def my_cosine_numpy(a,b):\n",
    "    assert len(a)==len(b), \"Arrays are of different sizes!\"\n",
    "    return (np.dot(a,b)/(np.linalg.norm(a)*np.linalg.norm(b)))\n",
    "print(clumsy_cos(a,b))\n",
    "print(my_cosine_numpy(a,b))\n",
    "\n",
    "# Number of dimensions in each vector, where each element is a random floating-point number between 0 and 1\n",
    "nd = 2\n",
    "\n",
    "random.seed(12345)\n",
    "start = time()\n",
    "for j in range(1000000):\n",
    "    clumsy_cos([random.random() for i in range(nd)],[random.random() for i in range(nd)])\n",
    "end = time()\n",
    "print (\"Clumsy: \",end-start, \"seconds\")\n",
    "\n",
    "random.seed(12345)\n",
    "start = time()\n",
    "for j in range(1000000):\n",
    "    my_cosine_numpy([random.random() for i in range(nd)],[random.random() for i in range(nd)])\n",
    "end = time()\n",
    "print (\"Numpy: \",end-start, \"seconds\")"
   ]
  },
  {
   "cell_type": "markdown",
   "metadata": {},
   "source": [
    "The numpy version is clearly faster, and the difference between them is greater as the dimensionality increases.\n",
    "\n",
    "If you check the various parts of the calculation (of which there are five: the dot product, the two vector lengths, one division, and one multiplication), the numpy version is just faster everywhere. Particularly egregious, however, is the method of finding a vector length by using our Euclidean distance function with a dummy vector of all zeroes."
   ]
  },
  {
   "cell_type": "markdown",
   "metadata": {},
   "source": [
    "#### Question 4"
   ]
  },
  {
   "cell_type": "code",
   "execution_count": 8,
   "metadata": {},
   "outputs": [
    {
     "name": "stdout",
     "output_type": "stream",
     "text": [
      "M*N [[ 0  6  3]\n",
      " [ 4  2  4]\n",
      " [12  0  0]]\n",
      "M.N [[ 8  5 18]\n",
      " [ 4 14 15]\n",
      " [ 2 20 14]]\n",
      "N*M [[ 0  6  3]\n",
      " [ 4  2  4]\n",
      " [12  0  0]]\n",
      "N.M [[18  8  3]\n",
      " [29 12  4]\n",
      " [20 10  6]]\n",
      "M*M [[ 1  4  9]\n",
      " [16  4  1]\n",
      " [36  4  0]]\n",
      "M**2 [[ 1  4  9]\n",
      " [16  4  1]\n",
      " [36  4  0]]\n",
      "M.M [[27 12  5]\n",
      " [18 14 14]\n",
      " [14 16 20]]\n"
     ]
    }
   ],
   "source": [
    "#Q4\n",
    "M = np.array([[1,2,3],[4,2,1],[6,2,0]])\n",
    "N = np.array([[0,3,1],[1,1,4],[2,0,3]])\n",
    "\n",
    "print(\"M*N\",M*N)\n",
    "print(\"M.N\",np.dot(M,N))\n",
    "print(\"N*M\",N*M)\n",
    "print(\"N.M\",np.dot(N,M))\n",
    "print(\"M*M\",M*M)\n",
    "print(\"M**2\",M**2)\n",
    "print(\"M.M\",np.dot(M,M))"
   ]
  },
  {
   "cell_type": "markdown",
   "metadata": {},
   "source": [
    "You can probably see that the multiplication (and exponentiation) operation happens element-wise, namely:\n",
    "$MN[i][j] = M[i][j] * N[i][j]$\n",
    "\n",
    "This is actually convenient in certain contexts, but is certainly not how we typically wish to multiply matrices!"
   ]
  },
  {
   "cell_type": "code",
   "execution_count": null,
   "metadata": {
    "collapsed": true
   },
   "outputs": [],
   "source": []
  }
 ],
 "metadata": {
  "kernelspec": {
   "display_name": "Python 3",
   "language": "python",
   "name": "python3"
  },
  "language_info": {
   "codemirror_mode": {
    "name": "ipython",
    "version": 3
   },
   "file_extension": ".py",
   "mimetype": "text/x-python",
   "name": "python",
   "nbconvert_exporter": "python",
   "pygments_lexer": "ipython3",
   "version": "3.6.1"
  }
 },
 "nbformat": 4,
 "nbformat_minor": 2
}
