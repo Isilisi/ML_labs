{
 "cells": [
  {
   "cell_type": "markdown",
   "metadata": {},
   "source": [
    "# The University of Melbourne, School of Computing and Information Systems\n",
    "# COMP30027 Machine Learning, 2019 Semester 1\n",
    "-----\n",
    "## Practical, Week 4 - sample solutions\n",
    "\n",
    "Today, we will be using scikit-learn to classify some data, and to evaluate some classifiers.\n",
    "# 1. \n",
    "Load the Iris dataset 1 as follows:"
   ]
  },
  {
   "cell_type": "code",
   "execution_count": 1,
   "metadata": {
    "collapsed": true
   },
   "outputs": [],
   "source": [
    "import numpy as np\n",
    "from sklearn import datasets\n",
    "from collections import Counter\n",
    "import matplotlib.pyplot as plt\n",
    "iris = datasets.load_iris()\n",
    "#print(iris)"
   ]
  },
  {
   "cell_type": "markdown",
   "metadata": {},
   "source": [
    "### 1(a)\n",
    "Identify the contents of the complex data type iris , for example iris.DESCR contains a long\n",
    "description of the dataset, which you can print() .\n",
    "\n",
    "\n",
    "### 1b) \n",
    "The common terminology in scikit-learn is that the array defining the attribute values is\n",
    "called X and the array defining the gold–standard (“ground truth”) labels is called y ; create\n",
    "these variables for the Iris data.\n",
    "\n",
    "\n",
    "### 1(c) \n",
    "Confirm that X is a 2-dimensional array, with a row for each instance and a column for each\n",
    "attribute. (Hint: read about the shape property in numpy .)"
   ]
  },
  {
   "cell_type": "code",
   "execution_count": 2,
   "metadata": {},
   "outputs": [
    {
     "name": "stdout",
     "output_type": "stream",
     "text": [
      "['DESCR', 'data', 'feature_names', 'target', 'target_names']\n",
      "X.shape (150, 4) y.shape (150,)\n"
     ]
    }
   ],
   "source": [
    "print(dir(iris))\n",
    "#print(iris.DESCR)\n",
    "#print(iris.data.shape)\n",
    "#print(iris.target.shape)\n",
    "X = iris.data\n",
    "y = iris.target\n",
    "print(\"X.shape {} y.shape {}\".format(X.shape, y.shape))"
   ]
  },
  {
   "cell_type": "markdown",
   "metadata": {},
   "source": [
    "# 2.\n",
    "Let’s build a 0-R classifier (“majority class classifier”). In scikit-learn , this is a DummyClassifier.\n",
    "\n",
    "Note that scikit-learn uses this terminology to help remind you not to use these sorts of classifiers when trying to solve real\n",
    "problems; they are easy baseline classifiers, however."
   ]
  },
  {
   "cell_type": "code",
   "execution_count": 3,
   "metadata": {},
   "outputs": [
    {
     "data": {
      "text/plain": [
       "DummyClassifier(constant=None, random_state=None, strategy='most_frequent')"
      ]
     },
     "execution_count": 3,
     "metadata": {},
     "output_type": "execute_result"
    }
   ],
   "source": [
    "from sklearn.dummy import DummyClassifier\n",
    "zero_r = DummyClassifier(strategy='most_frequent')\n",
    "zero_r.fit(X, y)"
   ]
  },
  {
   "cell_type": "markdown",
   "metadata": {},
   "source": [
    "### 2(a) \n",
    "Confirm that this is a typical 0-R classifier by checking its predictions on the training data:\n",
    "zero_r.predict(X) — which class has it chosen?"
   ]
  },
  {
   "cell_type": "code",
   "execution_count": 4,
   "metadata": {},
   "outputs": [
    {
     "name": "stdout",
     "output_type": "stream",
     "text": [
      "[0 0 0 0 0 0 0 0 0 0 0 0 0 0 0 0 0 0 0 0 0 0 0 0 0 0 0 0 0 0 0 0 0 0 0 0 0\n",
      " 0 0 0 0 0 0 0 0 0 0 0 0 0 0 0 0 0 0 0 0 0 0 0 0 0 0 0 0 0 0 0 0 0 0 0 0 0\n",
      " 0 0 0 0 0 0 0 0 0 0 0 0 0 0 0 0 0 0 0 0 0 0 0 0 0 0 0 0 0 0 0 0 0 0 0 0 0\n",
      " 0 0 0 0 0 0 0 0 0 0 0 0 0 0 0 0 0 0 0 0 0 0 0 0 0 0 0 0 0 0 0 0 0 0 0 0 0\n",
      " 0 0]\n"
     ]
    },
    {
     "data": {
      "text/plain": [
       "[(0, 50), (1, 50), (2, 50)]"
      ]
     },
     "execution_count": 4,
     "metadata": {},
     "output_type": "execute_result"
    }
   ],
   "source": [
    "ybar = zero_r.predict(X)\n",
    "print(ybar)\n",
    "label_counter = Counter(y)\n",
    "label_counter.most_common()"
   ]
  },
  {
   "cell_type": "markdown",
   "metadata": {},
   "source": [
    "Everything is a number, as far as scikit-learn is concerned - so it's a little difficult to know which class label this is. On the other hand, each of the classes is equally likely, so the method appears to have chosen the \"0th\" class arbitrarily."
   ]
  },
  {
   "cell_type": "markdown",
   "metadata": {},
   "source": [
    "### 2(b) \n",
    "The default evaluation metric associated with a DummyClassifier is accuracy, which you\n",
    "can observe using score() , for example: zero_r.score(X, y)\n",
    "This strategy — building a model, and then evaluating on the data that we used to build the\n",
    "model — gives us something called “training accuracy”, and is generally frowned upon in\n",
    "the Machine Learning community. Why do you suppose this is? (We’ll examine some better\n",
    "techniques later.)"
   ]
  },
  {
   "cell_type": "code",
   "execution_count": 5,
   "metadata": {},
   "outputs": [
    {
     "name": "stdout",
     "output_type": "stream",
     "text": [
      "0.3333333333333333\n"
     ]
    }
   ],
   "source": [
    "print(zero_r.score(X, y))"
   ]
  },
  {
   "cell_type": "markdown",
   "metadata": {},
   "source": [
    "### 2(c) \n",
    "Contrast the 0-R classifier with the “weighted random classifier”, which makes random pre-\n",
    "dictions according to the distribution of classes in the training data; (strategy='stratified')\n",
    "— check its predictions, and evaluate its training accuracy. Does it have a higher accuracy,\n",
    "on average, than 0-R, or a lower accuracy? (You should run score() at least 10 times.)"
   ]
  },
  {
   "cell_type": "code",
   "execution_count": 6,
   "metadata": {},
   "outputs": [
    {
     "name": "stdout",
     "output_type": "stream",
     "text": [
      "[0.2866666666666667, 0.34, 0.34, 0.29333333333333333, 0.26, 0.36666666666666664, 0.41333333333333333, 0.32, 0.35333333333333333, 0.35333333333333333]\n",
      "Average accuracy over 10 runs is: 0.3326666666666667.\n"
     ]
    }
   ],
   "source": [
    "stratified_clf = DummyClassifier(strategy='stratified')\n",
    "stratified_clf.fit(X, y)\n",
    "accuracies = []\n",
    "num_runs = 10\n",
    "for i in range(num_runs):\n",
    "    acc = stratified_clf.score(X, y)\n",
    "    accuracies.append(acc)\n",
    "print(accuracies)\n",
    "print('Average accuracy over {} runs is: {}.'.format(num_runs, np.mean(accuracies)))\n",
    "\n"
   ]
  },
  {
   "cell_type": "markdown",
   "metadata": {},
   "source": [
    "10 runs isn't quite enough to be certain which of these methods has greater accuracy. In fact, they will generally produce the same accuracy for class distributions where all of the classes are equally likely - but it would require more than 10 iterations to really see this."
   ]
  },
  {
   "cell_type": "markdown",
   "metadata": {},
   "source": [
    "# 3.\n",
    "Let’s consider a couple of other classifiers: a Decision Tree, and 1-R 4 (which is really just a limited\n",
    "DecisionTreeClassifier in scikit-learn ).\n",
    "\n",
    "Note that scikit-learn implementation of 1-R is slightly different to the lecture version, because it doesn’t count errors —\n",
    "rather it uses the Gini coefficient or the Information Gain to determine the best attribute."
   ]
  },
  {
   "cell_type": "code",
   "execution_count": 7,
   "metadata": {},
   "outputs": [
    {
     "data": {
      "text/plain": [
       "DecisionTreeClassifier(class_weight=None, criterion='gini', max_depth=None,\n",
       "            max_features=None, max_leaf_nodes=None,\n",
       "            min_impurity_decrease=0.0, min_impurity_split=None,\n",
       "            min_samples_leaf=1, min_samples_split=2,\n",
       "            min_weight_fraction_leaf=0.0, presort=False, random_state=None,\n",
       "            splitter='best')"
      ]
     },
     "execution_count": 7,
     "metadata": {},
     "output_type": "execute_result"
    }
   ],
   "source": [
    "from sklearn.tree import DecisionTreeClassifier\n",
    "one_r = DecisionTreeClassifier(max_depth=1)\n",
    "one_r.fit(X, y)\n",
    "dt = DecisionTreeClassifier(max_depth=None)\n",
    "dt.fit(X, y)"
   ]
  },
  {
   "cell_type": "markdown",
   "metadata": {},
   "source": [
    "### 3(a) \n",
    "Find the training accuracy of the two classifiers."
   ]
  },
  {
   "cell_type": "code",
   "execution_count": 8,
   "metadata": {},
   "outputs": [
    {
     "name": "stdout",
     "output_type": "stream",
     "text": [
      "1-R accuracy: 0.6666666666666666; DT accuracy: 1.0\n"
     ]
    }
   ],
   "source": [
    "one_r_acc = one_r.score(X, y)\n",
    "dt_acc = dt.score(X, y)\n",
    "print(\"1-R accuracy: {}; DT accuracy: {}\".format(one_r_acc, dt_acc))"
   ]
  },
  {
   "cell_type": "markdown",
   "metadata": {},
   "source": [
    "Unsurprisingly, the Decision Tree makes fewer errors when testing on the training data. The fact that the DT accuracy is 100% shows that every leaf has a homogeneous class distribution."
   ]
  },
  {
   "cell_type": "markdown",
   "metadata": {},
   "source": [
    "### 3(b) \n",
    "The \"feature importances\" attribute is adequate for completely describing the 1-R classi-\n",
    "fier. Which attribute is being used to classify the data?"
   ]
  },
  {
   "cell_type": "code",
   "execution_count": 9,
   "metadata": {},
   "outputs": [
    {
     "name": "stdout",
     "output_type": "stream",
     "text": [
      "petal length (cm)\n"
     ]
    }
   ],
   "source": [
    "importances = one_r.feature_importances_\n",
    "max_index = np.argmax(importances)\n",
    "best_feature_name = iris.feature_names[max_index]\n",
    "print(best_feature_name)"
   ]
  },
  {
   "cell_type": "markdown",
   "metadata": {},
   "source": [
    "### 3(c) \n",
    "(Harder) Check the predicted labels for each instance to discern the values for this attribute\n",
    "that each class maps to."
   ]
  },
  {
   "cell_type": "code",
   "execution_count": 10,
   "metadata": {},
   "outputs": [
    {
     "data": {
      "image/png": "[encoded data removed]",
      "text/plain": [
       "<matplotlib.figure.Figure at 0x109401908>"
      ]
     },
     "metadata": {},
     "output_type": "display_data"
    }
   ],
   "source": [
    "ybar = one_r.predict(X)\n",
    "best_feature = X[:, max_index]\n",
    "plt.scatter(best_feature, ybar, c=ybar)\n",
    "plt.xlabel(best_feature_name)\n",
    "plt.ylabel('predicted class')\n",
    "plt.show()\n",
    "#print(ybar)"
   ]
  },
  {
   "cell_type": "markdown",
   "metadata": {},
   "source": [
    "Perhaps the scatter-plot above isn't the ideal way to visualise this data, but it does allow us to readily observe that small values of petal-width are labelled as class 0, and larger values as class 1."
   ]
  },
  {
   "cell_type": "markdown",
   "metadata": {},
   "source": [
    "### 3(d) \n",
    "The default splitting criterion for these Decision Trees is the Gini coefficient. Read up on\n",
    "the difference between this and the Information Gain — do you expect the behaviour of\n",
    "this model to change by using the alternative splitting criterion? Try it, and confirm your\n",
    "expectations."
   ]
  },
  {
   "cell_type": "code",
   "execution_count": 11,
   "metadata": {},
   "outputs": [
    {
     "name": "stdout",
     "output_type": "stream",
     "text": [
      "Information Gain/entropy: 1-R accuracy: 0.6666666666666666 DT accuracy: 1.0\n",
      "1-R attribute:  petal width (cm)\n"
     ]
    }
   ],
   "source": [
    "one_r = DecisionTreeClassifier(max_depth=1, criterion=\"entropy\")\n",
    "one_r.fit(X, y)\n",
    "dt = DecisionTreeClassifier(max_depth=None, criterion=\"entropy\")\n",
    "dt.fit(X, y)\n",
    "\n",
    "one_r_acc = one_r.score(X, y)\n",
    "dt_acc = dt.score(X, y)\n",
    "print(\"Information Gain/entropy: 1-R accuracy: {} DT accuracy: {}\".format(one_r_acc, dt_acc))\n",
    "\n",
    "importances = one_r.feature_importances_\n",
    "max_index = np.argmax(importances)\n",
    "best_feature_name = iris.feature_names[max_index]\n",
    "print(\"1-R attribute: \",best_feature_name)\n",
    "ybar = one_r.predict(X)\n",
    "best_feature = X[:, max_index]\n",
    "#plt.scatter(best_feature, ybar, c=ybar)\n",
    "#plt.xlabel(best_feature_name)\n",
    "#plt.ylabel('predicted class')\n",
    "#plt.show()"
   ]
  },
  {
   "cell_type": "markdown",
   "metadata": {},
   "source": [
    "Recall that entropy is $H(X) = -\\sum p(x) \\log p(x)$; Gini is defined similarly: $G(X) = 1 - \\sum p(x)\\times p(x)$\n",
    "\n",
    "As we might expect from the similar formulae, whether we use the Gini coefficient or Information Gain makes little difference in this case: 1-R still chooses petal-width, and the Decision Tree still reproduces the training data exactly."
   ]
  },
  {
   "cell_type": "markdown",
   "metadata": {},
   "source": [
    "# 4. \n",
    "A better mechanism for evaluating a classifier is based on randomly partitioning the data into a\n",
    "training set and test set (the “holdout” method). There is an in-built utility for this in scikit-learn ,\n",
    "but it can be in one of two places:"
   ]
  },
  {
   "cell_type": "code",
   "execution_count": 12,
   "metadata": {},
   "outputs": [
    {
     "name": "stdout",
     "output_type": "stream",
     "text": [
      "X_train: (112, 4) X_test: (38, 4) y_train: (112,) y_test: (38,)\n"
     ]
    }
   ],
   "source": [
    "from sklearn.model_selection import train_test_split # Newer versions\n",
    "#from sklearn.cross_validation import train_test_split # Older versions\n",
    "X_train, X_test, y_train, y_test = train_test_split(X, y)\n",
    "print('X_train: {} X_test: {} y_train: {} y_test: {}'.format(X_train.shape, X_test.shape, y_train.shape, y_test.shape))"
   ]
  },
  {
   "cell_type": "markdown",
   "metadata": {},
   "source": [
    "### 4(a)\n",
    "Train the three classifiers (0-R, 1-R, Decision Tree) on the training data, rather than the full\n",
    "data set. score() is too specific to be used in most situations; another way to find the training\n",
    "accuracy is by comparing the predictions to the gold-standard labels as follows:\n",
    "```python\n",
    ">>> from scikit-learn.metrics import accuracy_score\n",
    ">>> accuracy_score(zero_R.predict(X_train),y_train))\n",
    "```\n",
    "\n",
    "Calculate the accuracy of the classifiers on the held-out training data. How does it\n",
    "compare to the training accuracies you calculated before? Why is this?\n",
    "\n",
    "### 4(b) \n",
    "Instead of calculating the accuracy with respect to the training set, train your classifiers on\n",
    "the training data (using fit() ) and then evaluate them (by calculating accuracy) accord-\n",
    "ing to their predictions on the test data. How different are the training accuracies and test\n",
    "accuracies? Hypothesise what could be causing these differences."
   ]
  },
  {
   "cell_type": "code",
   "execution_count": 13,
   "metadata": {},
   "outputs": [
    {
     "name": "stdout",
     "output_type": "stream",
     "text": [
      "Train accuracies: 0-R: 0.3392857142857143 1-R: 0.6607142857142857 DT: 1.0\n",
      "Test accuracies: 0-R: 0.3157894736842105 1-R: 0.6842105263157895 DT: 0.9473684210526315\n"
     ]
    }
   ],
   "source": [
    "from sklearn.metrics import accuracy_score\n",
    "\n",
    "zero_r.fit(X_train, y_train)\n",
    "one_r.fit(X_train, y_train)\n",
    "dt.fit(X_train, y_train)\n",
    "\n",
    "zr_acc = accuracy_score(zero_r.predict(X_train),y_train)\n",
    "or_acc = accuracy_score(one_r.predict(X_train),y_train)\n",
    "dt_acc = accuracy_score(dt.predict(X_train),y_train)\n",
    "print('Train accuracies: 0-R: {} 1-R: {} DT: {}'.format(zr_acc, or_acc, dt_acc))\n",
    "\n",
    "zr_acc = accuracy_score(zero_r.predict(X_test),y_test)\n",
    "or_acc = accuracy_score(one_r.predict(X_test),y_test)\n",
    "dt_acc = accuracy_score(dt.predict(X_test),y_test)\n",
    "print('Test accuracies: 0-R: {} 1-R: {} DT: {}'.format(zr_acc, or_acc, dt_acc))\n"
   ]
  },
  {
   "cell_type": "markdown",
   "metadata": {},
   "source": [
    "The accuracy on the test data, which we didn't use to build our models, is - perhaps unsurprisingly - somewhat worse than the accuracy on the training data.\n",
    "\n",
    "In the case of the Decision Tree, it is worthwhile to observe that the tree is not actually making perfect predictions, although on the whole, it is still pretty good."
   ]
  },
  {
   "cell_type": "markdown",
   "metadata": {},
   "source": [
    "### 4(c) \n",
    "By default, train_test_split uses 75% of the data as training, and 25% as test. This can\n",
    "be changed by passing an argument, for example, test_size=0.5 means that we use 50%\n",
    "as training 5 and 50% as test. Try some different values (perhaps multiple times) to see if you\n",
    "can observe the trade-off inherent in the model using this evaluation strategy."
   ]
  },
  {
   "cell_type": "code",
   "execution_count": 14,
   "metadata": {},
   "outputs": [
    {
     "name": "stdout",
     "output_type": "stream",
     "text": [
      "Running experiments with test set size: 0.01\n",
      "X_train: (148, 4) X_test: (2, 4) y_train: (148,) y_test: (2,)\n",
      "Train accuracies: 0-R: 0.33783783783783783 1-R: 0.668918918918919 DT: 1.0\n",
      "Test accuracies: 0-R: 0.0 1-R: 0.5 DT: 1.0\n",
      "\n",
      "Running experiments with test set size: 0.1\n",
      "X_train: (135, 4) X_test: (15, 4) y_train: (135,) y_test: (15,)\n",
      "Train accuracies: 0-R: 0.35555555555555557 1-R: 0.7037037037037037 DT: 1.0\n",
      "Test accuracies: 0-R: 0.13333333333333333 1-R: 0.3333333333333333 DT: 0.9333333333333333\n",
      "\n",
      "Running experiments with test set size: 0.2\n",
      "X_train: (120, 4) X_test: (30, 4) y_train: (120,) y_test: (30,)\n",
      "Train accuracies: 0-R: 0.35833333333333334 1-R: 0.6666666666666666 DT: 1.0\n",
      "Test accuracies: 0-R: 0.23333333333333334 1-R: 0.6666666666666666 DT: 0.9666666666666667\n",
      "\n",
      "Running experiments with test set size: 0.3\n",
      "X_train: (105, 4) X_test: (45, 4) y_train: (105,) y_test: (45,)\n",
      "Train accuracies: 0-R: 0.3523809523809524 1-R: 0.6952380952380952 DT: 1.0\n",
      "Test accuracies: 0-R: 0.28888888888888886 1-R: 0.6 DT: 0.9333333333333333\n",
      "\n",
      "Running experiments with test set size: 0.4\n",
      "X_train: (90, 4) X_test: (60, 4) y_train: (90,) y_test: (60,)\n",
      "Train accuracies: 0-R: 0.36666666666666664 1-R: 0.6444444444444445 DT: 1.0\n",
      "Test accuracies: 0-R: 0.2833333333333333 1-R: 0.7 DT: 0.9833333333333333\n",
      "\n",
      "Running experiments with test set size: 0.5\n",
      "X_train: (75, 4) X_test: (75, 4) y_train: (75,) y_test: (75,)\n",
      "Train accuracies: 0-R: 0.3466666666666667 1-R: 0.6666666666666666 DT: 1.0\n",
      "Test accuracies: 0-R: 0.32 1-R: 0.6666666666666666 DT: 0.9333333333333333\n",
      "\n",
      "Running experiments with test set size: 0.6\n",
      "X_train: (60, 4) X_test: (90, 4) y_train: (60,) y_test: (90,)\n",
      "Train accuracies: 0-R: 0.38333333333333336 1-R: 0.7333333333333333 DT: 1.0\n",
      "Test accuracies: 0-R: 0.3 1-R: 0.6222222222222222 DT: 0.9666666666666667\n",
      "\n",
      "Running experiments with test set size: 0.7\n",
      "X_train: (45, 4) X_test: (105, 4) y_train: (45,) y_test: (105,)\n",
      "Train accuracies: 0-R: 0.35555555555555557 1-R: 0.6888888888888889 DT: 1.0\n",
      "Test accuracies: 0-R: 0.3238095238095238 1-R: 0.6571428571428571 DT: 0.9523809523809523\n",
      "\n",
      "Running experiments with test set size: 0.8\n",
      "X_train: (30, 4) X_test: (120, 4) y_train: (30,) y_test: (120,)\n",
      "Train accuracies: 0-R: 0.36666666666666664 1-R: 0.7333333333333333 DT: 1.0\n",
      "Test accuracies: 0-R: 0.325 1-R: 0.5833333333333334 DT: 0.9333333333333333\n",
      "\n",
      "Running experiments with test set size: 0.9\n",
      "X_train: (15, 4) X_test: (135, 4) y_train: (15,) y_test: (135,)\n",
      "Train accuracies: 0-R: 0.3333333333333333 1-R: 0.6666666666666666 DT: 1.0\n",
      "Test accuracies: 0-R: 0.3333333333333333 1-R: 0.6666666666666666 DT: 0.8814814814814815\n",
      "\n",
      "Running experiments with test set size: 0.99\n",
      "X_train: (1, 4) X_test: (149, 4) y_train: (1,) y_test: (149,)\n",
      "Train accuracies: 0-R: 1.0 1-R: 1.0 DT: 1.0\n",
      "Test accuracies: 0-R: 0.3288590604026846 1-R: 0.3288590604026846 DT: 0.3288590604026846\n",
      "\n"
     ]
    }
   ],
   "source": [
    "for test_size in [0.01, 0.1, 0.2, 0.3, 0.4, 0.5, 0.6, 0.7, 0.8, 0.9, 0.99]:\n",
    "    print('Running experiments with test set size: {}'.format(test_size))\n",
    "    X_train, X_test, y_train, y_test = train_test_split(X, y, test_size=test_size)\n",
    "    print('X_train: {} X_test: {} y_train: {} y_test: {}'.format(X_train.shape, X_test.shape, y_train.shape, y_test.shape))\n",
    "    \n",
    "    zero_r.fit(X_train, y_train)\n",
    "    one_r.fit(X_train, y_train)\n",
    "    dt.fit(X_train, y_train)\n",
    "\n",
    "    zr_acc = accuracy_score(zero_r.predict(X_train),y_train)\n",
    "    or_acc = accuracy_score(one_r.predict(X_train),y_train)\n",
    "    dt_acc = accuracy_score(dt.predict(X_train),y_train)\n",
    "    print('Train accuracies: 0-R: {} 1-R: {} DT: {}'.format(zr_acc, or_acc, dt_acc))\n",
    "\n",
    "    zr_acc = accuracy_score(zero_r.predict(X_test),y_test)\n",
    "    or_acc = accuracy_score(one_r.predict(X_test),y_test)\n",
    "    dt_acc = accuracy_score(dt.predict(X_test),y_test)\n",
    "    print('Test accuracies: 0-R: {} 1-R: {} DT: {}'.format(zr_acc, or_acc, dt_acc))\n",
    "    print()\n",
    "\n",
    "    "
   ]
  },
  {
   "cell_type": "markdown",
   "metadata": {},
   "source": [
    "You might need to run this more than once to see how drastically the performance can change on the smaller test sets. For the larger test sets, the performance is rather consistent (in the sense that it is usually bad), but there isn't quite enough training data to build an accurate model.\n",
    "\n",
    "We might also note that the training accuracy is almost better than the test accuracy for these classifiers; this is yet another reason to be suspicious of training accuracy (as it tends to over-estimate the true performance of our classifier)."
   ]
  },
  {
   "cell_type": "markdown",
   "metadata": {},
   "source": [
    "# 5. \n",
    "(Stratified) M –fold cross-validation is so popular, scikit-learn has a utility that applies it di-\n",
    "rectly 6 . For example, 10–fold cross-validation of the 0-R classifier proceeds as follows:\n",
    "```python\n",
    ">>> from sklearn.model_validation import cross_val_score # Newer versions\n",
    ">>> from sklearn.cross_validation import cross_val_score # Older versions\n",
    ">>> cross_val_score(zero_R, X, y, cv=10)\n",
    "```\n",
    "\n",
    "### 5(a) \n",
    "This method returns an array of the calculated evaluation metric (by default, accuracy) across\n",
    "the folds. Write a wrapper function which averages these values, so as to come up with a\n",
    "single score for the classifier."
   ]
  },
  {
   "cell_type": "code",
   "execution_count": 15,
   "metadata": {},
   "outputs": [
    {
     "name": "stdout",
     "output_type": "stream",
     "text": [
      "[0.33333333 0.33333333 0.33333333 0.33333333 0.33333333 0.33333333\n",
      " 0.33333333 0.33333333 0.33333333 0.33333333]\n"
     ]
    }
   ],
   "source": [
    "from sklearn.model_selection import cross_val_score\n",
    "print(cross_val_score(zero_r, X, y, cv=10))\n",
    "\n",
    "def avg_score(clf, X, y, cv=10):\n",
    "    scores = cross_val_score(clf, X, y, cv=cv)\n",
    "    return np.mean(scores)\n"
   ]
  },
  {
   "cell_type": "markdown",
   "metadata": {},
   "source": [
    "### 5(b) \n",
    "How does the estimate of the accuracy of the various classifiers using cross-validation compare to the training accuracies and holdout accuracies you calculated above?"
   ]
  },
  {
   "cell_type": "code",
   "execution_count": 16,
   "metadata": {},
   "outputs": [
    {
     "name": "stdout",
     "output_type": "stream",
     "text": [
      "DummyClassifier(constant=None, random_state=None, strategy='most_frequent')\n",
      "Average CV accuracy 0.33333333333333337\n",
      "\n",
      "DecisionTreeClassifier(class_weight=None, criterion='entropy', max_depth=1,\n",
      "            max_features=None, max_leaf_nodes=None,\n",
      "            min_impurity_decrease=0.0, min_impurity_split=None,\n",
      "            min_samples_leaf=1, min_samples_split=2,\n",
      "            min_weight_fraction_leaf=0.0, presort=False, random_state=None,\n",
      "            splitter='best')\n",
      "Average CV accuracy 0.6666666666666667\n",
      "\n",
      "DecisionTreeClassifier(class_weight=None, criterion='entropy', max_depth=None,\n",
      "            max_features=None, max_leaf_nodes=None,\n",
      "            min_impurity_decrease=0.0, min_impurity_split=None,\n",
      "            min_samples_leaf=1, min_samples_split=2,\n",
      "            min_weight_fraction_leaf=0.0, presort=False, random_state=None,\n",
      "            splitter='best')\n",
      "Average CV accuracy 0.96\n",
      "\n"
     ]
    }
   ],
   "source": [
    "for clf in [zero_r, one_r, dt]:\n",
    "    avg = avg_score(clf, X, y, cv=10)\n",
    "    print(clf)\n",
    "    print('Average CV accuracy', avg)\n",
    "    print()"
   ]
  },
  {
   "cell_type": "markdown",
   "metadata": {},
   "source": [
    "Interestingly, for our baseline classifiers, the CV accuracy is very much like the training accuracy - this occurs because of stratification. Arguably, holdout can be a little unfair for these methods because the class distribution can be different between the training and test sets, simply due to random chance.\n",
    "\n",
    "As for the Decision Tree, the CV accuracy looks fairly similar to the test accuracy for many of the holdout split sizes. The main advantage is that this value doesn't tend to change quite as much as holdout test accuracy, if we repeat the procedure. A secondary advantage is that we don't need to try to justify why some particular holdout split size is appropriate - stratified 10-fold CV is just a \"standard\" strategy."
   ]
  },
  {
   "cell_type": "code",
   "execution_count": null,
   "metadata": {
    "collapsed": true
   },
   "outputs": [],
   "source": []
  }
 ],
 "metadata": {
  "kernelspec": {
   "display_name": "Python 3",
   "language": "python",
   "name": "python3"
  },
  "language_info": {
   "codemirror_mode": {
    "name": "ipython",
    "version": 3
   },
   "file_extension": ".py",
   "mimetype": "text/x-python",
   "name": "python",
   "nbconvert_exporter": "python",
   "pygments_lexer": "ipython3",
   "version": "3.6.4"
  }
 },
 "nbformat": 4,
 "nbformat_minor": 2
}
